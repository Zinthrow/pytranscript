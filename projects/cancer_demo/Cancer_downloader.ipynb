{
 "cells": [
  {
   "cell_type": "code",
   "execution_count": 1,
   "metadata": {},
   "outputs": [],
   "source": [
    "import sys\n",
    "\n",
    "sys.path.append('../../')\n",
    "from transcript.geo import download_geo_data"
   ]
  },
  {
   "cell_type": "code",
   "execution_count": 2,
   "metadata": {},
   "outputs": [
    {
     "name": "stderr",
     "output_type": "stream",
     "text": [
      "21-Dec-2023 17:26:11 DEBUG utils - Directory ./ already exists. Skipping.\n",
      "21-Dec-2023 17:26:11 INFO GEOparse - Downloading ftp://ftp.ncbi.nlm.nih.gov/geo/series/GSE42nnn/GSE42568/soft/GSE42568_family.soft.gz to ./GSE42568_family.soft.gz\n",
      "100%|██████████| 57.1M/57.1M [00:28<00:00, 2.13MB/s]\n",
      "21-Dec-2023 17:26:40 DEBUG downloader - Size validation passed\n",
      "21-Dec-2023 17:26:40 DEBUG downloader - Moving /tmp/tmpfz_vv0dt to /home/alarsen/Projects/pytranscript/projects/cancer_demo/GSE42568_family.soft.gz\n",
      "21-Dec-2023 17:26:40 DEBUG downloader - Successfully downloaded ftp://ftp.ncbi.nlm.nih.gov/geo/series/GSE42nnn/GSE42568/soft/GSE42568_family.soft.gz\n",
      "21-Dec-2023 17:26:40 INFO GEOparse - Parsing ./GSE42568_family.soft.gz: \n",
      "21-Dec-2023 17:26:40 DEBUG GEOparse - DATABASE: GeoMiame\n",
      "21-Dec-2023 17:26:40 DEBUG GEOparse - SERIES: GSE42568\n",
      "21-Dec-2023 17:26:40 DEBUG GEOparse - PLATFORM: GPL570\n",
      "/home/alarsen/.local/lib/python3.8/site-packages/GEOparse/GEOparse.py:113: DtypeWarning: Columns (2) have mixed types.Specify dtype option on import or set low_memory=False.\n",
      "  return parse_GSE(filepath, open_kwargs=open_kwargs)\n",
      "21-Dec-2023 17:26:41 DEBUG GEOparse - SAMPLE: GSM1045191\n",
      "21-Dec-2023 17:26:41 DEBUG GEOparse - SAMPLE: GSM1045192\n",
      "21-Dec-2023 17:26:41 DEBUG GEOparse - SAMPLE: GSM1045193\n",
      "21-Dec-2023 17:26:41 DEBUG GEOparse - SAMPLE: GSM1045194\n",
      "21-Dec-2023 17:26:41 DEBUG GEOparse - SAMPLE: GSM1045195\n",
      "21-Dec-2023 17:26:41 DEBUG GEOparse - SAMPLE: GSM1045196\n",
      "21-Dec-2023 17:26:42 DEBUG GEOparse - SAMPLE: GSM1045197\n",
      "21-Dec-2023 17:26:42 DEBUG GEOparse - SAMPLE: GSM1045198\n",
      "21-Dec-2023 17:26:42 DEBUG GEOparse - SAMPLE: GSM1045199\n",
      "21-Dec-2023 17:26:42 DEBUG GEOparse - SAMPLE: GSM1045200\n",
      "21-Dec-2023 17:26:42 DEBUG GEOparse - SAMPLE: GSM1045201\n",
      "21-Dec-2023 17:26:42 DEBUG GEOparse - SAMPLE: GSM1045202\n",
      "21-Dec-2023 17:26:42 DEBUG GEOparse - SAMPLE: GSM1045203\n",
      "21-Dec-2023 17:26:42 DEBUG GEOparse - SAMPLE: GSM1045204\n",
      "21-Dec-2023 17:26:42 DEBUG GEOparse - SAMPLE: GSM1045205\n",
      "21-Dec-2023 17:26:42 DEBUG GEOparse - SAMPLE: GSM1045206\n",
      "21-Dec-2023 17:26:42 DEBUG GEOparse - SAMPLE: GSM1045207\n",
      "21-Dec-2023 17:26:42 DEBUG GEOparse - SAMPLE: GSM1045208\n",
      "21-Dec-2023 17:26:43 DEBUG GEOparse - SAMPLE: GSM1045209\n",
      "21-Dec-2023 17:26:43 DEBUG GEOparse - SAMPLE: GSM1045210\n",
      "21-Dec-2023 17:26:43 DEBUG GEOparse - SAMPLE: GSM1045211\n",
      "21-Dec-2023 17:26:43 DEBUG GEOparse - SAMPLE: GSM1045212\n",
      "21-Dec-2023 17:26:43 DEBUG GEOparse - SAMPLE: GSM1045213\n",
      "21-Dec-2023 17:26:43 DEBUG GEOparse - SAMPLE: GSM1045214\n",
      "21-Dec-2023 17:26:43 DEBUG GEOparse - SAMPLE: GSM1045215\n",
      "21-Dec-2023 17:26:43 DEBUG GEOparse - SAMPLE: GSM1045216\n",
      "21-Dec-2023 17:26:43 DEBUG GEOparse - SAMPLE: GSM1045217\n",
      "21-Dec-2023 17:26:43 DEBUG GEOparse - SAMPLE: GSM1045218\n",
      "21-Dec-2023 17:26:43 DEBUG GEOparse - SAMPLE: GSM1045219\n",
      "21-Dec-2023 17:26:43 DEBUG GEOparse - SAMPLE: GSM1045220\n",
      "21-Dec-2023 17:26:44 DEBUG GEOparse - SAMPLE: GSM1045221\n",
      "21-Dec-2023 17:26:44 DEBUG GEOparse - SAMPLE: GSM1045222\n",
      "21-Dec-2023 17:26:44 DEBUG GEOparse - SAMPLE: GSM1045223\n",
      "21-Dec-2023 17:26:44 DEBUG GEOparse - SAMPLE: GSM1045224\n",
      "21-Dec-2023 17:26:44 DEBUG GEOparse - SAMPLE: GSM1045225\n",
      "21-Dec-2023 17:26:44 DEBUG GEOparse - SAMPLE: GSM1045226\n",
      "21-Dec-2023 17:26:44 DEBUG GEOparse - SAMPLE: GSM1045227\n",
      "21-Dec-2023 17:26:44 DEBUG GEOparse - SAMPLE: GSM1045228\n",
      "21-Dec-2023 17:26:44 DEBUG GEOparse - SAMPLE: GSM1045229\n",
      "21-Dec-2023 17:26:44 DEBUG GEOparse - SAMPLE: GSM1045230\n",
      "21-Dec-2023 17:26:44 DEBUG GEOparse - SAMPLE: GSM1045231\n",
      "21-Dec-2023 17:26:45 DEBUG GEOparse - SAMPLE: GSM1045232\n",
      "21-Dec-2023 17:26:45 DEBUG GEOparse - SAMPLE: GSM1045233\n",
      "21-Dec-2023 17:26:45 DEBUG GEOparse - SAMPLE: GSM1045234\n",
      "21-Dec-2023 17:26:45 DEBUG GEOparse - SAMPLE: GSM1045235\n",
      "21-Dec-2023 17:26:45 DEBUG GEOparse - SAMPLE: GSM1045236\n",
      "21-Dec-2023 17:26:45 DEBUG GEOparse - SAMPLE: GSM1045237\n",
      "21-Dec-2023 17:26:45 DEBUG GEOparse - SAMPLE: GSM1045238\n",
      "21-Dec-2023 17:26:45 DEBUG GEOparse - SAMPLE: GSM1045239\n",
      "21-Dec-2023 17:26:45 DEBUG GEOparse - SAMPLE: GSM1045240\n",
      "21-Dec-2023 17:26:45 DEBUG GEOparse - SAMPLE: GSM1045241\n",
      "21-Dec-2023 17:26:46 DEBUG GEOparse - SAMPLE: GSM1045242\n",
      "21-Dec-2023 17:26:46 DEBUG GEOparse - SAMPLE: GSM1045243\n",
      "21-Dec-2023 17:26:46 DEBUG GEOparse - SAMPLE: GSM1045244\n",
      "21-Dec-2023 17:26:46 DEBUG GEOparse - SAMPLE: GSM1045245\n",
      "21-Dec-2023 17:26:46 DEBUG GEOparse - SAMPLE: GSM1045246\n",
      "21-Dec-2023 17:26:46 DEBUG GEOparse - SAMPLE: GSM1045247\n",
      "21-Dec-2023 17:26:46 DEBUG GEOparse - SAMPLE: GSM1045248\n",
      "21-Dec-2023 17:26:46 DEBUG GEOparse - SAMPLE: GSM1045249\n",
      "21-Dec-2023 17:26:46 DEBUG GEOparse - SAMPLE: GSM1045250\n",
      "21-Dec-2023 17:26:47 DEBUG GEOparse - SAMPLE: GSM1045251\n",
      "21-Dec-2023 17:26:47 DEBUG GEOparse - SAMPLE: GSM1045252\n",
      "21-Dec-2023 17:26:47 DEBUG GEOparse - SAMPLE: GSM1045253\n",
      "21-Dec-2023 17:26:47 DEBUG GEOparse - SAMPLE: GSM1045254\n",
      "21-Dec-2023 17:26:47 DEBUG GEOparse - SAMPLE: GSM1045255\n",
      "21-Dec-2023 17:26:47 DEBUG GEOparse - SAMPLE: GSM1045256\n",
      "21-Dec-2023 17:26:47 DEBUG GEOparse - SAMPLE: GSM1045257\n",
      "21-Dec-2023 17:26:47 DEBUG GEOparse - SAMPLE: GSM1045258\n",
      "21-Dec-2023 17:26:47 DEBUG GEOparse - SAMPLE: GSM1045259\n",
      "21-Dec-2023 17:26:47 DEBUG GEOparse - SAMPLE: GSM1045260\n",
      "21-Dec-2023 17:26:47 DEBUG GEOparse - SAMPLE: GSM1045261\n",
      "21-Dec-2023 17:26:48 DEBUG GEOparse - SAMPLE: GSM1045262\n",
      "21-Dec-2023 17:26:48 DEBUG GEOparse - SAMPLE: GSM1045263\n",
      "21-Dec-2023 17:26:48 DEBUG GEOparse - SAMPLE: GSM1045264\n",
      "21-Dec-2023 17:26:48 DEBUG GEOparse - SAMPLE: GSM1045265\n",
      "21-Dec-2023 17:26:48 DEBUG GEOparse - SAMPLE: GSM1045266\n",
      "21-Dec-2023 17:26:48 DEBUG GEOparse - SAMPLE: GSM1045267\n",
      "21-Dec-2023 17:26:48 DEBUG GEOparse - SAMPLE: GSM1045268\n",
      "21-Dec-2023 17:26:48 DEBUG GEOparse - SAMPLE: GSM1045269\n",
      "21-Dec-2023 17:26:48 DEBUG GEOparse - SAMPLE: GSM1045270\n",
      "21-Dec-2023 17:26:48 DEBUG GEOparse - SAMPLE: GSM1045271\n",
      "21-Dec-2023 17:26:48 DEBUG GEOparse - SAMPLE: GSM1045272\n",
      "21-Dec-2023 17:26:49 DEBUG GEOparse - SAMPLE: GSM1045273\n",
      "21-Dec-2023 17:26:49 DEBUG GEOparse - SAMPLE: GSM1045274\n",
      "21-Dec-2023 17:26:49 DEBUG GEOparse - SAMPLE: GSM1045275\n",
      "21-Dec-2023 17:26:49 DEBUG GEOparse - SAMPLE: GSM1045276\n",
      "21-Dec-2023 17:26:49 DEBUG GEOparse - SAMPLE: GSM1045277\n",
      "21-Dec-2023 17:26:49 DEBUG GEOparse - SAMPLE: GSM1045278\n",
      "21-Dec-2023 17:26:49 DEBUG GEOparse - SAMPLE: GSM1045279\n",
      "21-Dec-2023 17:26:49 DEBUG GEOparse - SAMPLE: GSM1045280\n",
      "21-Dec-2023 17:26:49 DEBUG GEOparse - SAMPLE: GSM1045281\n",
      "21-Dec-2023 17:26:50 DEBUG GEOparse - SAMPLE: GSM1045282\n",
      "21-Dec-2023 17:26:50 DEBUG GEOparse - SAMPLE: GSM1045283\n",
      "21-Dec-2023 17:26:50 DEBUG GEOparse - SAMPLE: GSM1045284\n",
      "21-Dec-2023 17:26:50 DEBUG GEOparse - SAMPLE: GSM1045285\n",
      "21-Dec-2023 17:26:50 DEBUG GEOparse - SAMPLE: GSM1045286\n",
      "21-Dec-2023 17:26:50 DEBUG GEOparse - SAMPLE: GSM1045287\n",
      "21-Dec-2023 17:26:50 DEBUG GEOparse - SAMPLE: GSM1045288\n",
      "21-Dec-2023 17:26:50 DEBUG GEOparse - SAMPLE: GSM1045289\n",
      "21-Dec-2023 17:26:50 DEBUG GEOparse - SAMPLE: GSM1045290\n",
      "21-Dec-2023 17:26:51 DEBUG GEOparse - SAMPLE: GSM1045291\n",
      "21-Dec-2023 17:26:51 DEBUG GEOparse - SAMPLE: GSM1045292\n",
      "21-Dec-2023 17:26:51 DEBUG GEOparse - SAMPLE: GSM1045293\n",
      "21-Dec-2023 17:26:51 DEBUG GEOparse - SAMPLE: GSM1045294\n",
      "21-Dec-2023 17:26:51 DEBUG GEOparse - SAMPLE: GSM1045295\n",
      "21-Dec-2023 17:26:51 DEBUG GEOparse - SAMPLE: GSM1045296\n",
      "21-Dec-2023 17:26:51 DEBUG GEOparse - SAMPLE: GSM1045297\n",
      "21-Dec-2023 17:26:51 DEBUG GEOparse - SAMPLE: GSM1045298\n",
      "21-Dec-2023 17:26:51 DEBUG GEOparse - SAMPLE: GSM1045299\n",
      "21-Dec-2023 17:26:51 DEBUG GEOparse - SAMPLE: GSM1045300\n",
      "21-Dec-2023 17:26:51 DEBUG GEOparse - SAMPLE: GSM1045301\n",
      "21-Dec-2023 17:26:52 DEBUG GEOparse - SAMPLE: GSM1045302\n",
      "21-Dec-2023 17:26:52 DEBUG GEOparse - SAMPLE: GSM1045303\n",
      "21-Dec-2023 17:26:52 DEBUG GEOparse - SAMPLE: GSM1045304\n",
      "21-Dec-2023 17:26:52 DEBUG GEOparse - SAMPLE: GSM1045305\n",
      "21-Dec-2023 17:26:52 DEBUG GEOparse - SAMPLE: GSM1045306\n",
      "21-Dec-2023 17:26:52 DEBUG GEOparse - SAMPLE: GSM1045307\n",
      "21-Dec-2023 17:26:52 DEBUG GEOparse - SAMPLE: GSM1045308\n",
      "21-Dec-2023 17:26:52 DEBUG GEOparse - SAMPLE: GSM1045309\n",
      "21-Dec-2023 17:26:52 DEBUG GEOparse - SAMPLE: GSM1045310\n",
      "21-Dec-2023 17:26:53 DEBUG GEOparse - SAMPLE: GSM1045311\n"
     ]
    },
    {
     "name": "stdout",
     "output_type": "stream",
     "text": [
      "Title: Breast Cancer Gene Expression Analysis\n",
      "Summary: Analysis of 104 breast cancer biopsies (removed prior to any treatment with tamoxifen or chemotherapeutic agents) from patients aged between 31 years and 89 years at the time of diagnosis (mean age = 58 years). Twenty were less than 50 years and seventy-seven women were 50 years, or older, at diagnosis. The size of the tumours ranged between 0.6 cm and 8.0 cm (mean = 2.79 cm). Eighteen tumours were T1 (<2 cm) in maximal dimension; 83 were T2 (2–5 cm) and 3 tumours were T3 (>5 cm). Eighty-two were invasive ductal carcinoma, 17 were invasive lobular and five were tumours of special type (two tubular and three mucinous). Eleven tumours were grade 1; 40 were grade 2; and 53 were grade 3. Sixty-seven tumours were oestrogen receptor (ER) positive and 34 were ER negative (ER status was determined by Enzyme Immuno-Assay (EIA); a positive result was defined as more than 200 fmol/g protein). ER status was not available for 3 patients. Forty-five tumours had no axillary metastases and 59 tumours had metastasised to axillary lymph nodes. Sixty-nine women were treated with post-operative tamoxifen; 26 did not receive tamoxifen. Fifty patients were treated with adjuvant systemic chemotherapy (CMF +/− adriamycin); 45 patients did not receive chemotherapy. Details regarding tamoxifen and systemic chemotherapy were not available for 9 patients. Maximal follow-up was 3,026 days with a mean follow-up of 1,887 days.\n",
      "Overall Design: Gene expression profiling of 104 breast cancer and 17 normal breast biopsies.\n",
      "Downloading GSM1045191...\n"
     ]
    },
    {
     "name": "stderr",
     "output_type": "stream",
     "text": [
      "100%|██████████| 7.71M/7.71M [00:02<00:00, 3.03MB/s]\n",
      "21-Dec-2023 17:26:56 DEBUG downloader - Size validation passed\n",
      "21-Dec-2023 17:26:56 DEBUG downloader - Moving /tmp/tmpcoeq35hw to /home/alarsen/Projects/pytranscript/projects/cancer_demo/Supp_GSM1045191_Normal_breast__N1_15_12_04/GSM1045191_N1_15_12_04.CEL.gz\n",
      "21-Dec-2023 17:26:56 DEBUG downloader - Successfully downloaded ftp://ftp.ncbi.nlm.nih.gov/geo/samples/GSM1045nnn/GSM1045191/suppl/GSM1045191_N1_15_12_04.CEL.gz\n",
      "21-Dec-2023 17:26:56 ERROR GEOTypes - Cannot download GSM1045191 SRA file (argument of type 'NoneType' is not iterable)\n"
     ]
    },
    {
     "name": "stdout",
     "output_type": "stream",
     "text": [
      "Downloading GSM1045192...\n"
     ]
    },
    {
     "name": "stderr",
     "output_type": "stream",
     "text": [
      "100%|██████████| 7.43M/7.43M [00:05<00:00, 1.43MB/s]\n",
      "21-Dec-2023 17:27:02 DEBUG downloader - Size validation passed\n",
      "21-Dec-2023 17:27:02 DEBUG downloader - Moving /tmp/tmpdw4nljra to /home/alarsen/Projects/pytranscript/projects/cancer_demo/Supp_GSM1045192_Normal_breast__N4_14_12_04/GSM1045192_N4_14_12_04.CEL.gz\n",
      "21-Dec-2023 17:27:02 DEBUG downloader - Successfully downloaded ftp://ftp.ncbi.nlm.nih.gov/geo/samples/GSM1045nnn/GSM1045192/suppl/GSM1045192_N4_14_12_04.CEL.gz\n",
      "21-Dec-2023 17:27:02 ERROR GEOTypes - Cannot download GSM1045192 SRA file (argument of type 'NoneType' is not iterable)\n"
     ]
    },
    {
     "name": "stdout",
     "output_type": "stream",
     "text": [
      "Downloading GSM1045193...\n"
     ]
    },
    {
     "name": "stderr",
     "output_type": "stream",
     "text": [
      "100%|██████████| 7.42M/7.42M [00:04<00:00, 1.81MB/s]\n",
      "21-Dec-2023 17:27:08 DEBUG downloader - Size validation passed\n",
      "21-Dec-2023 17:27:08 DEBUG downloader - Moving /tmp/tmpdg7_ax97 to /home/alarsen/Projects/pytranscript/projects/cancer_demo/Supp_GSM1045193_Normal_breast__N5_15_12_04/GSM1045193_N5_15_12_04.CEL.gz\n",
      "21-Dec-2023 17:27:08 DEBUG downloader - Successfully downloaded ftp://ftp.ncbi.nlm.nih.gov/geo/samples/GSM1045nnn/GSM1045193/suppl/GSM1045193_N5_15_12_04.CEL.gz\n",
      "21-Dec-2023 17:27:08 ERROR GEOTypes - Cannot download GSM1045193 SRA file (argument of type 'NoneType' is not iterable)\n"
     ]
    },
    {
     "name": "stdout",
     "output_type": "stream",
     "text": [
      "Downloading GSM1045194...\n"
     ]
    },
    {
     "name": "stderr",
     "output_type": "stream",
     "text": [
      "100%|██████████| 7.19M/7.19M [00:05<00:00, 1.48MB/s]\n",
      "21-Dec-2023 17:27:13 DEBUG downloader - Size validation passed\n",
      "21-Dec-2023 17:27:13 DEBUG downloader - Moving /tmp/tmproytxgq5 to /home/alarsen/Projects/pytranscript/projects/cancer_demo/Supp_GSM1045194_Normal_breast__N6_14_12_04/GSM1045194_N6_14_12_04.CEL.gz\n",
      "21-Dec-2023 17:27:13 DEBUG downloader - Successfully downloaded ftp://ftp.ncbi.nlm.nih.gov/geo/samples/GSM1045nnn/GSM1045194/suppl/GSM1045194_N6_14_12_04.CEL.gz\n",
      "21-Dec-2023 17:27:13 ERROR GEOTypes - Cannot download GSM1045194 SRA file (argument of type 'NoneType' is not iterable)\n"
     ]
    },
    {
     "name": "stdout",
     "output_type": "stream",
     "text": [
      "Downloading GSM1045195...\n"
     ]
    },
    {
     "name": "stderr",
     "output_type": "stream",
     "text": [
      "100%|██████████| 7.50M/7.50M [00:02<00:00, 2.75MB/s]\n",
      "21-Dec-2023 17:27:17 DEBUG downloader - Size validation passed\n",
      "21-Dec-2023 17:27:17 DEBUG downloader - Moving /tmp/tmpxo2bdujy to /home/alarsen/Projects/pytranscript/projects/cancer_demo/Supp_GSM1045195_Normal_breast__P1_15_12_04/GSM1045195_P1_15_12_04.CEL.gz\n",
      "21-Dec-2023 17:27:17 DEBUG downloader - Successfully downloaded ftp://ftp.ncbi.nlm.nih.gov/geo/samples/GSM1045nnn/GSM1045195/suppl/GSM1045195_P1_15_12_04.CEL.gz\n",
      "21-Dec-2023 17:27:17 ERROR GEOTypes - Cannot download GSM1045195 SRA file (argument of type 'NoneType' is not iterable)\n"
     ]
    },
    {
     "name": "stdout",
     "output_type": "stream",
     "text": [
      "Downloading GSM1045196...\n"
     ]
    },
    {
     "name": "stderr",
     "output_type": "stream",
     "text": [
      "100%|██████████| 8.02M/8.02M [00:08<00:00, 1.04MB/s]  \n",
      "21-Dec-2023 17:27:26 DEBUG downloader - Size validation passed\n",
      "21-Dec-2023 17:27:26 DEBUG downloader - Moving /tmp/tmp1o6cgm4t to /home/alarsen/Projects/pytranscript/projects/cancer_demo/Supp_GSM1045196_Normal_breast__P10_26_1_05/GSM1045196_P10_26_1_05.CEL.gz\n",
      "21-Dec-2023 17:27:26 DEBUG downloader - Successfully downloaded ftp://ftp.ncbi.nlm.nih.gov/geo/samples/GSM1045nnn/GSM1045196/suppl/GSM1045196_P10_26_1_05.CEL.gz\n",
      "21-Dec-2023 17:27:26 ERROR GEOTypes - Cannot download GSM1045196 SRA file (argument of type 'NoneType' is not iterable)\n"
     ]
    },
    {
     "name": "stdout",
     "output_type": "stream",
     "text": [
      "Downloading GSM1045197...\n"
     ]
    },
    {
     "name": "stderr",
     "output_type": "stream",
     "text": [
      "100%|██████████| 7.66M/7.66M [00:09<00:00, 853kB/s] \n",
      "21-Dec-2023 17:27:36 DEBUG downloader - Size validation passed\n",
      "21-Dec-2023 17:27:36 DEBUG downloader - Moving /tmp/tmpo6x0sn3p to /home/alarsen/Projects/pytranscript/projects/cancer_demo/Supp_GSM1045197_Normal_breast__P11_25_1_05/GSM1045197_P11_25_1_05.CEL.gz\n",
      "21-Dec-2023 17:27:36 DEBUG downloader - Successfully downloaded ftp://ftp.ncbi.nlm.nih.gov/geo/samples/GSM1045nnn/GSM1045197/suppl/GSM1045197_P11_25_1_05.CEL.gz\n",
      "21-Dec-2023 17:27:36 ERROR GEOTypes - Cannot download GSM1045197 SRA file (argument of type 'NoneType' is not iterable)\n"
     ]
    },
    {
     "name": "stdout",
     "output_type": "stream",
     "text": [
      "Downloading GSM1045198...\n"
     ]
    },
    {
     "name": "stderr",
     "output_type": "stream",
     "text": [
      "100%|██████████| 7.64M/7.64M [00:04<00:00, 1.73MB/s]\n",
      "21-Dec-2023 17:27:41 DEBUG downloader - Size validation passed\n",
      "21-Dec-2023 17:27:41 DEBUG downloader - Moving /tmp/tmpue9aq84r to /home/alarsen/Projects/pytranscript/projects/cancer_demo/Supp_GSM1045198_Normal_breast__P12_25_1_05/GSM1045198_P12_25_1_05.CEL.gz\n",
      "21-Dec-2023 17:27:41 DEBUG downloader - Successfully downloaded ftp://ftp.ncbi.nlm.nih.gov/geo/samples/GSM1045nnn/GSM1045198/suppl/GSM1045198_P12_25_1_05.CEL.gz\n",
      "21-Dec-2023 17:27:41 ERROR GEOTypes - Cannot download GSM1045198 SRA file (argument of type 'NoneType' is not iterable)\n"
     ]
    },
    {
     "name": "stdout",
     "output_type": "stream",
     "text": [
      "Downloading GSM1045199...\n"
     ]
    },
    {
     "name": "stderr",
     "output_type": "stream",
     "text": [
      "100%|██████████| 7.83M/7.83M [00:05<00:00, 1.63MB/s]\n",
      "21-Dec-2023 17:27:46 DEBUG downloader - Size validation passed\n",
      "21-Dec-2023 17:27:46 DEBUG downloader - Moving /tmp/tmpw3xv0_29 to /home/alarsen/Projects/pytranscript/projects/cancer_demo/Supp_GSM1045199_Normal_breast__P13_25_1_05/GSM1045199_P13_25_1_05.CEL.gz\n",
      "21-Dec-2023 17:27:47 DEBUG downloader - Successfully downloaded ftp://ftp.ncbi.nlm.nih.gov/geo/samples/GSM1045nnn/GSM1045199/suppl/GSM1045199_P13_25_1_05.CEL.gz\n",
      "21-Dec-2023 17:27:47 ERROR GEOTypes - Cannot download GSM1045199 SRA file (argument of type 'NoneType' is not iterable)\n"
     ]
    },
    {
     "name": "stdout",
     "output_type": "stream",
     "text": [
      "Downloading GSM1045200...\n"
     ]
    },
    {
     "name": "stderr",
     "output_type": "stream",
     "text": [
      "100%|██████████| 7.96M/7.96M [00:04<00:00, 1.96MB/s]\n",
      "21-Dec-2023 17:27:52 DEBUG downloader - Size validation passed\n",
      "21-Dec-2023 17:27:52 DEBUG downloader - Moving /tmp/tmpm392g5jq to /home/alarsen/Projects/pytranscript/projects/cancer_demo/Supp_GSM1045200_Normal_breast__P14_25_1_05/GSM1045200_P14_25_1_05.CEL.gz\n",
      "21-Dec-2023 17:27:52 DEBUG downloader - Successfully downloaded ftp://ftp.ncbi.nlm.nih.gov/geo/samples/GSM1045nnn/GSM1045200/suppl/GSM1045200_P14_25_1_05.CEL.gz\n",
      "21-Dec-2023 17:27:52 ERROR GEOTypes - Cannot download GSM1045200 SRA file (argument of type 'NoneType' is not iterable)\n"
     ]
    },
    {
     "name": "stdout",
     "output_type": "stream",
     "text": [
      "Downloading GSM1045201...\n"
     ]
    },
    {
     "name": "stderr",
     "output_type": "stream",
     "text": [
      "100%|██████████| 7.56M/7.56M [00:03<00:00, 2.33MB/s]\n",
      "21-Dec-2023 17:27:56 DEBUG downloader - Size validation passed\n",
      "21-Dec-2023 17:27:56 DEBUG downloader - Moving /tmp/tmp46qbh6fb to /home/alarsen/Projects/pytranscript/projects/cancer_demo/Supp_GSM1045201_Normal_breast__P18_25_1_05/GSM1045201_P18_25_1_05.CEL.gz\n",
      "21-Dec-2023 17:27:56 DEBUG downloader - Successfully downloaded ftp://ftp.ncbi.nlm.nih.gov/geo/samples/GSM1045nnn/GSM1045201/suppl/GSM1045201_P18_25_1_05.CEL.gz\n",
      "21-Dec-2023 17:27:56 ERROR GEOTypes - Cannot download GSM1045201 SRA file (argument of type 'NoneType' is not iterable)\n"
     ]
    },
    {
     "name": "stdout",
     "output_type": "stream",
     "text": [
      "Downloading GSM1045202...\n"
     ]
    },
    {
     "name": "stderr",
     "output_type": "stream",
     "text": [
      "100%|██████████| 7.79M/7.79M [00:03<00:00, 2.26MB/s]\n",
      "21-Dec-2023 17:28:00 DEBUG downloader - Size validation passed\n",
      "21-Dec-2023 17:28:00 DEBUG downloader - Moving /tmp/tmp5inhm5i5 to /home/alarsen/Projects/pytranscript/projects/cancer_demo/Supp_GSM1045202_Normal_breast__P21_25_1_05/GSM1045202_P21_25_1_05.CEL.gz\n",
      "21-Dec-2023 17:28:00 DEBUG downloader - Successfully downloaded ftp://ftp.ncbi.nlm.nih.gov/geo/samples/GSM1045nnn/GSM1045202/suppl/GSM1045202_P21_25_1_05.CEL.gz\n",
      "21-Dec-2023 17:28:00 ERROR GEOTypes - Cannot download GSM1045202 SRA file (argument of type 'NoneType' is not iterable)\n"
     ]
    },
    {
     "name": "stdout",
     "output_type": "stream",
     "text": [
      "Downloading GSM1045203...\n"
     ]
    },
    {
     "name": "stderr",
     "output_type": "stream",
     "text": [
      "100%|██████████| 7.35M/7.35M [00:08<00:00, 938kB/s] \n",
      "21-Dec-2023 17:28:09 DEBUG downloader - Size validation passed\n",
      "21-Dec-2023 17:28:09 DEBUG downloader - Moving /tmp/tmprbbzzb23 to /home/alarsen/Projects/pytranscript/projects/cancer_demo/Supp_GSM1045203_Normal_breast__P3_22_12_04/GSM1045203_P3_22_12_04.CEL.gz\n",
      "21-Dec-2023 17:28:09 DEBUG downloader - Successfully downloaded ftp://ftp.ncbi.nlm.nih.gov/geo/samples/GSM1045nnn/GSM1045203/suppl/GSM1045203_P3_22_12_04.CEL.gz\n",
      "21-Dec-2023 17:28:09 ERROR GEOTypes - Cannot download GSM1045203 SRA file (argument of type 'NoneType' is not iterable)\n"
     ]
    },
    {
     "name": "stdout",
     "output_type": "stream",
     "text": [
      "Downloading GSM1045204...\n"
     ]
    },
    {
     "name": "stderr",
     "output_type": "stream",
     "text": [
      "100%|██████████| 7.73M/7.73M [00:02<00:00, 2.96MB/s]\n",
      "21-Dec-2023 17:28:13 DEBUG downloader - Size validation passed\n",
      "21-Dec-2023 17:28:13 DEBUG downloader - Moving /tmp/tmp7c6dryde to /home/alarsen/Projects/pytranscript/projects/cancer_demo/Supp_GSM1045204_Normal_breast__P4_14_12_04/GSM1045204_P4_14_12_04.CEL.gz\n",
      "21-Dec-2023 17:28:13 DEBUG downloader - Successfully downloaded ftp://ftp.ncbi.nlm.nih.gov/geo/samples/GSM1045nnn/GSM1045204/suppl/GSM1045204_P4_14_12_04.CEL.gz\n",
      "21-Dec-2023 17:28:13 ERROR GEOTypes - Cannot download GSM1045204 SRA file (argument of type 'NoneType' is not iterable)\n"
     ]
    },
    {
     "name": "stdout",
     "output_type": "stream",
     "text": [
      "Downloading GSM1045205...\n"
     ]
    },
    {
     "name": "stderr",
     "output_type": "stream",
     "text": [
      "100%|██████████| 7.76M/7.76M [00:03<00:00, 2.67MB/s]\n",
      "21-Dec-2023 17:28:16 DEBUG downloader - Size validation passed\n",
      "21-Dec-2023 17:28:16 DEBUG downloader - Moving /tmp/tmpgl6xb6hz to /home/alarsen/Projects/pytranscript/projects/cancer_demo/Supp_GSM1045205_Normal_breast__P5_21_12_04/GSM1045205_P5_21_12_04.CEL.gz\n",
      "21-Dec-2023 17:28:16 DEBUG downloader - Successfully downloaded ftp://ftp.ncbi.nlm.nih.gov/geo/samples/GSM1045nnn/GSM1045205/suppl/GSM1045205_P5_21_12_04.CEL.gz\n",
      "21-Dec-2023 17:28:16 ERROR GEOTypes - Cannot download GSM1045205 SRA file (argument of type 'NoneType' is not iterable)\n"
     ]
    },
    {
     "name": "stdout",
     "output_type": "stream",
     "text": [
      "Downloading GSM1045206...\n"
     ]
    },
    {
     "name": "stderr",
     "output_type": "stream",
     "text": [
      "100%|██████████| 7.73M/7.73M [00:05<00:00, 1.56MB/s]\n",
      "21-Dec-2023 17:28:22 DEBUG downloader - Size validation passed\n",
      "21-Dec-2023 17:28:22 DEBUG downloader - Moving /tmp/tmp1gtv8eyy to /home/alarsen/Projects/pytranscript/projects/cancer_demo/Supp_GSM1045206_Normal_breast__P8_25_1_05/GSM1045206_P8_25_1_05.CEL.gz\n",
      "21-Dec-2023 17:28:22 DEBUG downloader - Successfully downloaded ftp://ftp.ncbi.nlm.nih.gov/geo/samples/GSM1045nnn/GSM1045206/suppl/GSM1045206_P8_25_1_05.CEL.gz\n",
      "21-Dec-2023 17:28:22 ERROR GEOTypes - Cannot download GSM1045206 SRA file (argument of type 'NoneType' is not iterable)\n"
     ]
    },
    {
     "name": "stdout",
     "output_type": "stream",
     "text": [
      "Downloading GSM1045207...\n"
     ]
    },
    {
     "name": "stderr",
     "output_type": "stream",
     "text": [
      "100%|██████████| 7.83M/7.83M [00:06<00:00, 1.35MB/s]\n",
      "21-Dec-2023 17:28:29 DEBUG downloader - Size validation passed\n",
      "21-Dec-2023 17:28:29 DEBUG downloader - Moving /tmp/tmpgyg70yov to /home/alarsen/Projects/pytranscript/projects/cancer_demo/Supp_GSM1045207_Normal_breast__P9_25_1_05/GSM1045207_P9_25_1_05.CEL.gz\n",
      "21-Dec-2023 17:28:29 DEBUG downloader - Successfully downloaded ftp://ftp.ncbi.nlm.nih.gov/geo/samples/GSM1045nnn/GSM1045207/suppl/GSM1045207_P9_25_1_05.CEL.gz\n",
      "21-Dec-2023 17:28:29 ERROR GEOTypes - Cannot download GSM1045207 SRA file (argument of type 'NoneType' is not iterable)\n"
     ]
    },
    {
     "name": "stdout",
     "output_type": "stream",
     "text": [
      "Downloading GSM1045208...\n"
     ]
    },
    {
     "name": "stderr",
     "output_type": "stream",
     "text": [
      "100%|██████████| 7.75M/7.75M [00:05<00:00, 1.42MB/s]  \n",
      "21-Dec-2023 17:28:35 DEBUG downloader - Size validation passed\n",
      "21-Dec-2023 17:28:35 DEBUG downloader - Moving /tmp/tmp7yggkgcg to /home/alarsen/Projects/pytranscript/projects/cancer_demo/Supp_GSM1045208_Breast_cancer__S1_21_12_04/GSM1045208_S1_21_12_04.CEL.gz\n",
      "21-Dec-2023 17:28:35 DEBUG downloader - Successfully downloaded ftp://ftp.ncbi.nlm.nih.gov/geo/samples/GSM1045nnn/GSM1045208/suppl/GSM1045208_S1_21_12_04.CEL.gz\n",
      "21-Dec-2023 17:28:35 ERROR GEOTypes - Cannot download GSM1045208 SRA file (argument of type 'NoneType' is not iterable)\n"
     ]
    },
    {
     "name": "stdout",
     "output_type": "stream",
     "text": [
      "Downloading GSM1045209...\n"
     ]
    },
    {
     "name": "stderr",
     "output_type": "stream",
     "text": [
      "100%|██████████| 7.48M/7.48M [00:04<00:00, 1.84MB/s]\n",
      "21-Dec-2023 17:28:40 DEBUG downloader - Size validation passed\n",
      "21-Dec-2023 17:28:40 DEBUG downloader - Moving /tmp/tmptr_0qi8h to /home/alarsen/Projects/pytranscript/projects/cancer_demo/Supp_GSM1045209_Breast_cancer__S10_22_12_04/GSM1045209_S10_22_12_04.CEL.gz\n",
      "21-Dec-2023 17:28:40 DEBUG downloader - Successfully downloaded ftp://ftp.ncbi.nlm.nih.gov/geo/samples/GSM1045nnn/GSM1045209/suppl/GSM1045209_S10_22_12_04.CEL.gz\n",
      "21-Dec-2023 17:28:40 ERROR GEOTypes - Cannot download GSM1045209 SRA file (argument of type 'NoneType' is not iterable)\n"
     ]
    },
    {
     "name": "stdout",
     "output_type": "stream",
     "text": [
      "Downloading GSM1045210...\n"
     ]
    },
    {
     "name": "stderr",
     "output_type": "stream",
     "text": [
      "100%|██████████| 7.55M/7.55M [00:04<00:00, 1.87MB/s]\n",
      "21-Dec-2023 17:28:45 DEBUG downloader - Size validation passed\n",
      "21-Dec-2023 17:28:45 DEBUG downloader - Moving /tmp/tmpw8brhb2r to /home/alarsen/Projects/pytranscript/projects/cancer_demo/Supp_GSM1045210_Breast_cancer__S11_14_12_04/GSM1045210_S11_14_12_04.CEL.gz\n",
      "21-Dec-2023 17:28:45 DEBUG downloader - Successfully downloaded ftp://ftp.ncbi.nlm.nih.gov/geo/samples/GSM1045nnn/GSM1045210/suppl/GSM1045210_S11_14_12_04.CEL.gz\n",
      "21-Dec-2023 17:28:45 ERROR GEOTypes - Cannot download GSM1045210 SRA file (argument of type 'NoneType' is not iterable)\n"
     ]
    },
    {
     "name": "stdout",
     "output_type": "stream",
     "text": [
      "Downloading GSM1045211...\n"
     ]
    },
    {
     "name": "stderr",
     "output_type": "stream",
     "text": [
      "100%|██████████| 7.53M/7.53M [00:05<00:00, 1.47MB/s]  \n",
      "21-Dec-2023 17:28:51 DEBUG downloader - Size validation passed\n",
      "21-Dec-2023 17:28:51 DEBUG downloader - Moving /tmp/tmp8s0ryo5v to /home/alarsen/Projects/pytranscript/projects/cancer_demo/Supp_GSM1045211_Breast_cancer__S14_21_12_04/GSM1045211_S14_21_12_04.CEL.gz\n",
      "21-Dec-2023 17:28:51 DEBUG downloader - Successfully downloaded ftp://ftp.ncbi.nlm.nih.gov/geo/samples/GSM1045nnn/GSM1045211/suppl/GSM1045211_S14_21_12_04.CEL.gz\n",
      "21-Dec-2023 17:28:51 ERROR GEOTypes - Cannot download GSM1045211 SRA file (argument of type 'NoneType' is not iterable)\n"
     ]
    },
    {
     "name": "stdout",
     "output_type": "stream",
     "text": [
      "Downloading GSM1045212...\n"
     ]
    },
    {
     "name": "stderr",
     "output_type": "stream",
     "text": [
      "100%|██████████| 8.18M/8.18M [00:04<00:00, 1.72MB/s]\n",
      "21-Dec-2023 17:28:57 DEBUG downloader - Size validation passed\n",
      "21-Dec-2023 17:28:57 DEBUG downloader - Moving /tmp/tmp5ene_28m to /home/alarsen/Projects/pytranscript/projects/cancer_demo/Supp_GSM1045212_Breast_cancer__S15_15_12_04/GSM1045212_S15_15_12_04.CEL.gz\n",
      "21-Dec-2023 17:28:57 DEBUG downloader - Successfully downloaded ftp://ftp.ncbi.nlm.nih.gov/geo/samples/GSM1045nnn/GSM1045212/suppl/GSM1045212_S15_15_12_04.CEL.gz\n",
      "21-Dec-2023 17:28:57 ERROR GEOTypes - Cannot download GSM1045212 SRA file (argument of type 'NoneType' is not iterable)\n"
     ]
    },
    {
     "name": "stdout",
     "output_type": "stream",
     "text": [
      "Downloading GSM1045213...\n"
     ]
    },
    {
     "name": "stderr",
     "output_type": "stream",
     "text": [
      "100%|██████████| 7.73M/7.73M [00:06<00:00, 1.30MB/s]  \n",
      "21-Dec-2023 17:29:04 DEBUG downloader - Size validation passed\n",
      "21-Dec-2023 17:29:04 DEBUG downloader - Moving /tmp/tmp2x3bkzs2 to /home/alarsen/Projects/pytranscript/projects/cancer_demo/Supp_GSM1045213_Breast_cancer__S16_20_12_04/GSM1045213_S16_20_12_04.CEL.gz\n",
      "21-Dec-2023 17:29:04 DEBUG downloader - Successfully downloaded ftp://ftp.ncbi.nlm.nih.gov/geo/samples/GSM1045nnn/GSM1045213/suppl/GSM1045213_S16_20_12_04.CEL.gz\n",
      "21-Dec-2023 17:29:04 ERROR GEOTypes - Cannot download GSM1045213 SRA file (argument of type 'NoneType' is not iterable)\n"
     ]
    },
    {
     "name": "stdout",
     "output_type": "stream",
     "text": [
      "Downloading GSM1045214...\n"
     ]
    },
    {
     "name": "stderr",
     "output_type": "stream",
     "text": [
      "100%|██████████| 7.61M/7.61M [00:05<00:00, 1.57MB/s]\n",
      "21-Dec-2023 17:29:10 DEBUG downloader - Size validation passed\n",
      "21-Dec-2023 17:29:10 DEBUG downloader - Moving /tmp/tmpwyn9wj91 to /home/alarsen/Projects/pytranscript/projects/cancer_demo/Supp_GSM1045214_Breast_cancer__S18_22_12_04/GSM1045214_S18_22_12_04.CEL.gz\n",
      "21-Dec-2023 17:29:10 DEBUG downloader - Successfully downloaded ftp://ftp.ncbi.nlm.nih.gov/geo/samples/GSM1045nnn/GSM1045214/suppl/GSM1045214_S18_22_12_04.CEL.gz\n",
      "21-Dec-2023 17:29:10 ERROR GEOTypes - Cannot download GSM1045214 SRA file (argument of type 'NoneType' is not iterable)\n"
     ]
    },
    {
     "name": "stdout",
     "output_type": "stream",
     "text": [
      "Downloading GSM1045215...\n"
     ]
    },
    {
     "name": "stderr",
     "output_type": "stream",
     "text": [
      "100%|██████████| 8.06M/8.06M [00:06<00:00, 1.36MB/s]\n",
      "21-Dec-2023 17:29:17 DEBUG downloader - Size validation passed\n",
      "21-Dec-2023 17:29:17 DEBUG downloader - Moving /tmp/tmp08pm0awy to /home/alarsen/Projects/pytranscript/projects/cancer_demo/Supp_GSM1045215_Breast_cancer__S2_15_12_04/GSM1045215_S2_15_12_04.CEL.gz\n",
      "21-Dec-2023 17:29:17 DEBUG downloader - Successfully downloaded ftp://ftp.ncbi.nlm.nih.gov/geo/samples/GSM1045nnn/GSM1045215/suppl/GSM1045215_S2_15_12_04.CEL.gz\n",
      "21-Dec-2023 17:29:17 ERROR GEOTypes - Cannot download GSM1045215 SRA file (argument of type 'NoneType' is not iterable)\n"
     ]
    },
    {
     "name": "stdout",
     "output_type": "stream",
     "text": [
      "Downloading GSM1045216...\n"
     ]
    },
    {
     "name": "stderr",
     "output_type": "stream",
     "text": [
      "100%|██████████| 7.90M/7.90M [00:07<00:00, 1.13MB/s]\n",
      "21-Dec-2023 17:29:25 DEBUG downloader - Size validation passed\n",
      "21-Dec-2023 17:29:25 DEBUG downloader - Moving /tmp/tmpzh5elrea to /home/alarsen/Projects/pytranscript/projects/cancer_demo/Supp_GSM1045216_Breast_cancer__S20_14_12_04/GSM1045216_S20_14_12_04.CEL.gz\n",
      "21-Dec-2023 17:29:25 DEBUG downloader - Successfully downloaded ftp://ftp.ncbi.nlm.nih.gov/geo/samples/GSM1045nnn/GSM1045216/suppl/GSM1045216_S20_14_12_04.CEL.gz\n",
      "21-Dec-2023 17:29:25 ERROR GEOTypes - Cannot download GSM1045216 SRA file (argument of type 'NoneType' is not iterable)\n"
     ]
    },
    {
     "name": "stdout",
     "output_type": "stream",
     "text": [
      "Downloading GSM1045217...\n"
     ]
    },
    {
     "name": "stderr",
     "output_type": "stream",
     "text": [
      "100%|██████████| 7.53M/7.53M [00:03<00:00, 2.25MB/s]\n",
      "21-Dec-2023 17:29:29 DEBUG downloader - Size validation passed\n",
      "21-Dec-2023 17:29:29 DEBUG downloader - Moving /tmp/tmp32n7eu7n to /home/alarsen/Projects/pytranscript/projects/cancer_demo/Supp_GSM1045217_Breast_cancer__S22_9_12_04/GSM1045217_S22_9_12_04.CEL.gz\n",
      "21-Dec-2023 17:29:29 DEBUG downloader - Successfully downloaded ftp://ftp.ncbi.nlm.nih.gov/geo/samples/GSM1045nnn/GSM1045217/suppl/GSM1045217_S22_9_12_04.CEL.gz\n",
      "21-Dec-2023 17:29:29 ERROR GEOTypes - Cannot download GSM1045217 SRA file (argument of type 'NoneType' is not iterable)\n"
     ]
    },
    {
     "name": "stdout",
     "output_type": "stream",
     "text": [
      "Downloading GSM1045218...\n"
     ]
    },
    {
     "name": "stderr",
     "output_type": "stream",
     "text": [
      "100%|██████████| 7.76M/7.76M [00:06<00:00, 1.35MB/s]\n",
      "21-Dec-2023 17:29:35 DEBUG downloader - Size validation passed\n",
      "21-Dec-2023 17:29:35 DEBUG downloader - Moving /tmp/tmpao7setmx to /home/alarsen/Projects/pytranscript/projects/cancer_demo/Supp_GSM1045218_Breast_cancer__S25_10_12_04/GSM1045218_S25_10_12_04.CEL.gz\n",
      "21-Dec-2023 17:29:35 DEBUG downloader - Successfully downloaded ftp://ftp.ncbi.nlm.nih.gov/geo/samples/GSM1045nnn/GSM1045218/suppl/GSM1045218_S25_10_12_04.CEL.gz\n",
      "21-Dec-2023 17:29:35 ERROR GEOTypes - Cannot download GSM1045218 SRA file (argument of type 'NoneType' is not iterable)\n"
     ]
    },
    {
     "name": "stdout",
     "output_type": "stream",
     "text": [
      "Downloading GSM1045219...\n"
     ]
    },
    {
     "name": "stderr",
     "output_type": "stream",
     "text": [
      "100%|██████████| 7.63M/7.63M [00:04<00:00, 1.72MB/s]\n",
      "21-Dec-2023 17:29:41 DEBUG downloader - Size validation passed\n",
      "21-Dec-2023 17:29:41 DEBUG downloader - Moving /tmp/tmpn6rmjw6g to /home/alarsen/Projects/pytranscript/projects/cancer_demo/Supp_GSM1045219_Breast_cancer__S26_10_12_04/GSM1045219_S26_10_12_04.CEL.gz\n",
      "21-Dec-2023 17:29:41 DEBUG downloader - Successfully downloaded ftp://ftp.ncbi.nlm.nih.gov/geo/samples/GSM1045nnn/GSM1045219/suppl/GSM1045219_S26_10_12_04.CEL.gz\n",
      "21-Dec-2023 17:29:41 ERROR GEOTypes - Cannot download GSM1045219 SRA file (argument of type 'NoneType' is not iterable)\n"
     ]
    },
    {
     "name": "stdout",
     "output_type": "stream",
     "text": [
      "Downloading GSM1045220...\n"
     ]
    },
    {
     "name": "stderr",
     "output_type": "stream",
     "text": [
      "100%|██████████| 7.85M/7.85M [00:03<00:00, 2.09MB/s]  \n",
      "21-Dec-2023 17:29:45 DEBUG downloader - Size validation passed\n",
      "21-Dec-2023 17:29:45 DEBUG downloader - Moving /tmp/tmpzpskp06n to /home/alarsen/Projects/pytranscript/projects/cancer_demo/Supp_GSM1045220_Breast_cancer__S28_7_12_04/GSM1045220_S28_7_12_04.CEL.gz\n",
      "21-Dec-2023 17:29:45 DEBUG downloader - Successfully downloaded ftp://ftp.ncbi.nlm.nih.gov/geo/samples/GSM1045nnn/GSM1045220/suppl/GSM1045220_S28_7_12_04.CEL.gz\n",
      "21-Dec-2023 17:29:45 ERROR GEOTypes - Cannot download GSM1045220 SRA file (argument of type 'NoneType' is not iterable)\n"
     ]
    },
    {
     "name": "stdout",
     "output_type": "stream",
     "text": [
      "Downloading GSM1045221...\n"
     ]
    },
    {
     "name": "stderr",
     "output_type": "stream",
     "text": [
      "100%|██████████| 7.62M/7.62M [00:02<00:00, 2.73MB/s]\n",
      "21-Dec-2023 17:29:49 DEBUG downloader - Size validation passed\n",
      "21-Dec-2023 17:29:49 DEBUG downloader - Moving /tmp/tmpujd30rt4 to /home/alarsen/Projects/pytranscript/projects/cancer_demo/Supp_GSM1045221_Breast_cancer__S29_10_12_04/GSM1045221_S29_10_12_04.CEL.gz\n",
      "21-Dec-2023 17:29:49 DEBUG downloader - Successfully downloaded ftp://ftp.ncbi.nlm.nih.gov/geo/samples/GSM1045nnn/GSM1045221/suppl/GSM1045221_S29_10_12_04.CEL.gz\n",
      "21-Dec-2023 17:29:49 ERROR GEOTypes - Cannot download GSM1045221 SRA file (argument of type 'NoneType' is not iterable)\n"
     ]
    },
    {
     "name": "stdout",
     "output_type": "stream",
     "text": [
      "Downloading GSM1045222...\n"
     ]
    },
    {
     "name": "stderr",
     "output_type": "stream",
     "text": [
      "100%|██████████| 7.63M/7.63M [00:02<00:00, 2.75MB/s]\n",
      "21-Dec-2023 17:29:52 DEBUG downloader - Size validation passed\n",
      "21-Dec-2023 17:29:52 DEBUG downloader - Moving /tmp/tmp1leccgjr to /home/alarsen/Projects/pytranscript/projects/cancer_demo/Supp_GSM1045222_Breast_cancer__S3_20_12_04/GSM1045222_S3_20_12_04.CEL.gz\n",
      "21-Dec-2023 17:29:52 DEBUG downloader - Successfully downloaded ftp://ftp.ncbi.nlm.nih.gov/geo/samples/GSM1045nnn/GSM1045222/suppl/GSM1045222_S3_20_12_04.CEL.gz\n",
      "21-Dec-2023 17:29:52 ERROR GEOTypes - Cannot download GSM1045222 SRA file (argument of type 'NoneType' is not iterable)\n"
     ]
    },
    {
     "name": "stdout",
     "output_type": "stream",
     "text": [
      "Downloading GSM1045223...\n"
     ]
    },
    {
     "name": "stderr",
     "output_type": "stream",
     "text": [
      "100%|██████████| 7.64M/7.64M [00:03<00:00, 2.09MB/s]\n",
      "21-Dec-2023 17:29:56 DEBUG downloader - Size validation passed\n",
      "21-Dec-2023 17:29:56 DEBUG downloader - Moving /tmp/tmpdw3ud8k3 to /home/alarsen/Projects/pytranscript/projects/cancer_demo/Supp_GSM1045223_Breast_cancer__S30_14_12_04/GSM1045223_S30_14_12_04.CEL.gz\n",
      "21-Dec-2023 17:29:56 DEBUG downloader - Successfully downloaded ftp://ftp.ncbi.nlm.nih.gov/geo/samples/GSM1045nnn/GSM1045223/suppl/GSM1045223_S30_14_12_04.CEL.gz\n",
      "21-Dec-2023 17:29:56 ERROR GEOTypes - Cannot download GSM1045223 SRA file (argument of type 'NoneType' is not iterable)\n"
     ]
    },
    {
     "name": "stdout",
     "output_type": "stream",
     "text": [
      "Downloading GSM1045224...\n"
     ]
    },
    {
     "name": "stderr",
     "output_type": "stream",
     "text": [
      "100%|██████████| 7.91M/7.91M [00:03<00:00, 2.35MB/s]\n",
      "21-Dec-2023 17:30:00 DEBUG downloader - Size validation passed\n",
      "21-Dec-2023 17:30:00 DEBUG downloader - Moving /tmp/tmp1gng_psa to /home/alarsen/Projects/pytranscript/projects/cancer_demo/Supp_GSM1045224_Breast_cancer__S31_3_12_04/GSM1045224_S31_3_12_04.CEL.gz\n",
      "21-Dec-2023 17:30:00 DEBUG downloader - Successfully downloaded ftp://ftp.ncbi.nlm.nih.gov/geo/samples/GSM1045nnn/GSM1045224/suppl/GSM1045224_S31_3_12_04.CEL.gz\n",
      "21-Dec-2023 17:30:00 ERROR GEOTypes - Cannot download GSM1045224 SRA file (argument of type 'NoneType' is not iterable)\n"
     ]
    },
    {
     "name": "stdout",
     "output_type": "stream",
     "text": [
      "Downloading GSM1045225...\n"
     ]
    },
    {
     "name": "stderr",
     "output_type": "stream",
     "text": [
      "100%|██████████| 8.15M/8.15M [00:05<00:00, 1.63MB/s]\n",
      "21-Dec-2023 17:30:06 DEBUG downloader - Size validation passed\n",
      "21-Dec-2023 17:30:06 DEBUG downloader - Moving /tmp/tmpetq2jpua to /home/alarsen/Projects/pytranscript/projects/cancer_demo/Supp_GSM1045225_Breast_cancer__S32_3_12_04/GSM1045225_S32_3_12_04.CEL.gz\n",
      "21-Dec-2023 17:30:06 DEBUG downloader - Successfully downloaded ftp://ftp.ncbi.nlm.nih.gov/geo/samples/GSM1045nnn/GSM1045225/suppl/GSM1045225_S32_3_12_04.CEL.gz\n",
      "21-Dec-2023 17:30:06 ERROR GEOTypes - Cannot download GSM1045225 SRA file (argument of type 'NoneType' is not iterable)\n"
     ]
    },
    {
     "name": "stdout",
     "output_type": "stream",
     "text": [
      "Downloading GSM1045226...\n"
     ]
    },
    {
     "name": "stderr",
     "output_type": "stream",
     "text": [
      "100%|██████████| 7.67M/7.67M [00:03<00:00, 2.49MB/s]\n",
      "21-Dec-2023 17:30:10 DEBUG downloader - Size validation passed\n",
      "21-Dec-2023 17:30:10 DEBUG downloader - Moving /tmp/tmphr2up1rc to /home/alarsen/Projects/pytranscript/projects/cancer_demo/Supp_GSM1045226_Breast_cancer__S33_3_12_04/GSM1045226_S33_3_12_04.CEL.gz\n",
      "21-Dec-2023 17:30:10 DEBUG downloader - Successfully downloaded ftp://ftp.ncbi.nlm.nih.gov/geo/samples/GSM1045nnn/GSM1045226/suppl/GSM1045226_S33_3_12_04.CEL.gz\n",
      "21-Dec-2023 17:30:10 ERROR GEOTypes - Cannot download GSM1045226 SRA file (argument of type 'NoneType' is not iterable)\n"
     ]
    },
    {
     "name": "stdout",
     "output_type": "stream",
     "text": [
      "Downloading GSM1045227...\n"
     ]
    },
    {
     "name": "stderr",
     "output_type": "stream",
     "text": [
      "100%|██████████| 8.02M/8.02M [00:04<00:00, 1.71MB/s]\n",
      "21-Dec-2023 17:30:16 DEBUG downloader - Size validation passed\n",
      "21-Dec-2023 17:30:16 DEBUG downloader - Moving /tmp/tmprueo813a to /home/alarsen/Projects/pytranscript/projects/cancer_demo/Supp_GSM1045227_Breast_cancer__S35_8_12_04/GSM1045227_S35_8_12_04.CEL.gz\n",
      "21-Dec-2023 17:30:16 DEBUG downloader - Successfully downloaded ftp://ftp.ncbi.nlm.nih.gov/geo/samples/GSM1045nnn/GSM1045227/suppl/GSM1045227_S35_8_12_04.CEL.gz\n",
      "21-Dec-2023 17:30:16 ERROR GEOTypes - Cannot download GSM1045227 SRA file (argument of type 'NoneType' is not iterable)\n"
     ]
    },
    {
     "name": "stdout",
     "output_type": "stream",
     "text": [
      "Downloading GSM1045228...\n"
     ]
    },
    {
     "name": "stderr",
     "output_type": "stream",
     "text": [
      "100%|██████████| 7.59M/7.59M [00:02<00:00, 2.66MB/s]\n",
      "21-Dec-2023 17:30:19 DEBUG downloader - Size validation passed\n",
      "21-Dec-2023 17:30:19 DEBUG downloader - Moving /tmp/tmp530jatt9 to /home/alarsen/Projects/pytranscript/projects/cancer_demo/Supp_GSM1045228_Breast_cancer__S36_20_12_04/GSM1045228_S36_20_12_04.CEL.gz\n",
      "21-Dec-2023 17:30:19 DEBUG downloader - Successfully downloaded ftp://ftp.ncbi.nlm.nih.gov/geo/samples/GSM1045nnn/GSM1045228/suppl/GSM1045228_S36_20_12_04.CEL.gz\n",
      "21-Dec-2023 17:30:19 ERROR GEOTypes - Cannot download GSM1045228 SRA file (argument of type 'NoneType' is not iterable)\n"
     ]
    },
    {
     "name": "stdout",
     "output_type": "stream",
     "text": [
      "Downloading GSM1045229...\n"
     ]
    },
    {
     "name": "stderr",
     "output_type": "stream",
     "text": [
      "100%|██████████| 8.01M/8.01M [00:04<00:00, 1.89MB/s]\n",
      "21-Dec-2023 17:30:25 DEBUG downloader - Size validation passed\n",
      "21-Dec-2023 17:30:25 DEBUG downloader - Moving /tmp/tmp5zkuabm3 to /home/alarsen/Projects/pytranscript/projects/cancer_demo/Supp_GSM1045229_Breast_cancer__S37_8_12_04/GSM1045229_S37_8_12_04.CEL.gz\n",
      "21-Dec-2023 17:30:25 DEBUG downloader - Successfully downloaded ftp://ftp.ncbi.nlm.nih.gov/geo/samples/GSM1045nnn/GSM1045229/suppl/GSM1045229_S37_8_12_04.CEL.gz\n",
      "21-Dec-2023 17:30:25 ERROR GEOTypes - Cannot download GSM1045229 SRA file (argument of type 'NoneType' is not iterable)\n"
     ]
    },
    {
     "name": "stdout",
     "output_type": "stream",
     "text": [
      "Downloading GSM1045230...\n"
     ]
    },
    {
     "name": "stderr",
     "output_type": "stream",
     "text": [
      "100%|██████████| 8.14M/8.14M [00:04<00:00, 2.06MB/s]\n",
      "21-Dec-2023 17:30:30 DEBUG downloader - Size validation passed\n",
      "21-Dec-2023 17:30:30 DEBUG downloader - Moving /tmp/tmpc70xctgh to /home/alarsen/Projects/pytranscript/projects/cancer_demo/Supp_GSM1045230_Breast_cancer__S38_10_12_04/GSM1045230_S38_10_12_04.CEL.gz\n",
      "21-Dec-2023 17:30:30 DEBUG downloader - Successfully downloaded ftp://ftp.ncbi.nlm.nih.gov/geo/samples/GSM1045nnn/GSM1045230/suppl/GSM1045230_S38_10_12_04.CEL.gz\n",
      "21-Dec-2023 17:30:30 ERROR GEOTypes - Cannot download GSM1045230 SRA file (argument of type 'NoneType' is not iterable)\n"
     ]
    },
    {
     "name": "stdout",
     "output_type": "stream",
     "text": [
      "Downloading GSM1045231...\n"
     ]
    },
    {
     "name": "stderr",
     "output_type": "stream",
     "text": [
      "100%|██████████| 8.11M/8.11M [00:04<00:00, 1.83MB/s]\n",
      "21-Dec-2023 17:30:35 DEBUG downloader - Size validation passed\n",
      "21-Dec-2023 17:30:35 DEBUG downloader - Moving /tmp/tmp6c97iic9 to /home/alarsen/Projects/pytranscript/projects/cancer_demo/Supp_GSM1045231_Breast_cancer__S5_15_12_04/GSM1045231_S5_15_12_04.CEL.gz\n",
      "21-Dec-2023 17:30:35 DEBUG downloader - Successfully downloaded ftp://ftp.ncbi.nlm.nih.gov/geo/samples/GSM1045nnn/GSM1045231/suppl/GSM1045231_S5_15_12_04.CEL.gz\n",
      "21-Dec-2023 17:30:35 ERROR GEOTypes - Cannot download GSM1045231 SRA file (argument of type 'NoneType' is not iterable)\n"
     ]
    },
    {
     "name": "stdout",
     "output_type": "stream",
     "text": [
      "Downloading GSM1045232...\n"
     ]
    },
    {
     "name": "stderr",
     "output_type": "stream",
     "text": [
      "100%|██████████| 6.87M/6.87M [00:03<00:00, 2.10MB/s]\n",
      "21-Dec-2023 17:30:39 DEBUG downloader - Size validation passed\n",
      "21-Dec-2023 17:30:39 DEBUG downloader - Moving /tmp/tmpl428pv69 to /home/alarsen/Projects/pytranscript/projects/cancer_demo/Supp_GSM1045232_Breast_cancer__S6_20_12_04/GSM1045232_S6_20_12_04.CEL.gz\n",
      "21-Dec-2023 17:30:39 DEBUG downloader - Successfully downloaded ftp://ftp.ncbi.nlm.nih.gov/geo/samples/GSM1045nnn/GSM1045232/suppl/GSM1045232_S6_20_12_04.CEL.gz\n",
      "21-Dec-2023 17:30:39 ERROR GEOTypes - Cannot download GSM1045232 SRA file (argument of type 'NoneType' is not iterable)\n"
     ]
    },
    {
     "name": "stdout",
     "output_type": "stream",
     "text": [
      "Downloading GSM1045233...\n"
     ]
    },
    {
     "name": "stderr",
     "output_type": "stream",
     "text": [
      "100%|██████████| 7.60M/7.60M [00:03<00:00, 2.54MB/s]\n",
      "21-Dec-2023 17:30:43 DEBUG downloader - Size validation passed\n",
      "21-Dec-2023 17:30:43 DEBUG downloader - Moving /tmp/tmpfx9ugafo to /home/alarsen/Projects/pytranscript/projects/cancer_demo/Supp_GSM1045233_Breast_cancer__S7_14_12_04/GSM1045233_S7_14_12_04.CEL.gz\n",
      "21-Dec-2023 17:30:43 DEBUG downloader - Successfully downloaded ftp://ftp.ncbi.nlm.nih.gov/geo/samples/GSM1045nnn/GSM1045233/suppl/GSM1045233_S7_14_12_04.CEL.gz\n",
      "21-Dec-2023 17:30:43 ERROR GEOTypes - Cannot download GSM1045233 SRA file (argument of type 'NoneType' is not iterable)\n"
     ]
    },
    {
     "name": "stdout",
     "output_type": "stream",
     "text": [
      "Downloading GSM1045234...\n"
     ]
    },
    {
     "name": "stderr",
     "output_type": "stream",
     "text": [
      "100%|██████████| 8.21M/8.21M [00:03<00:00, 2.73MB/s]  \n",
      "21-Dec-2023 17:30:47 DEBUG downloader - Size validation passed\n",
      "21-Dec-2023 17:30:47 DEBUG downloader - Moving /tmp/tmp5rzgluyk to /home/alarsen/Projects/pytranscript/projects/cancer_demo/Supp_GSM1045234_Breast_cancer__T1_14_12_04/GSM1045234_T1_14_12_04.CEL.gz\n",
      "21-Dec-2023 17:30:47 DEBUG downloader - Successfully downloaded ftp://ftp.ncbi.nlm.nih.gov/geo/samples/GSM1045nnn/GSM1045234/suppl/GSM1045234_T1_14_12_04.CEL.gz\n",
      "21-Dec-2023 17:30:47 ERROR GEOTypes - Cannot download GSM1045234 SRA file (argument of type 'NoneType' is not iterable)\n"
     ]
    },
    {
     "name": "stdout",
     "output_type": "stream",
     "text": [
      "Downloading GSM1045235...\n"
     ]
    },
    {
     "name": "stderr",
     "output_type": "stream",
     "text": [
      "100%|██████████| 8.09M/8.09M [00:02<00:00, 3.12MB/s]\n",
      "21-Dec-2023 17:30:51 DEBUG downloader - Size validation passed\n",
      "21-Dec-2023 17:30:51 DEBUG downloader - Moving /tmp/tmp_6tfzez0 to /home/alarsen/Projects/pytranscript/projects/cancer_demo/Supp_GSM1045235_Breast_cancer__T10_8_12_04/GSM1045235_T10_8_12_04.CEL.gz\n",
      "21-Dec-2023 17:30:51 DEBUG downloader - Successfully downloaded ftp://ftp.ncbi.nlm.nih.gov/geo/samples/GSM1045nnn/GSM1045235/suppl/GSM1045235_T10_8_12_04.CEL.gz\n",
      "21-Dec-2023 17:30:51 ERROR GEOTypes - Cannot download GSM1045235 SRA file (argument of type 'NoneType' is not iterable)\n"
     ]
    },
    {
     "name": "stdout",
     "output_type": "stream",
     "text": [
      "Downloading GSM1045236...\n"
     ]
    },
    {
     "name": "stderr",
     "output_type": "stream",
     "text": [
      "100%|██████████| 7.85M/7.85M [00:03<00:00, 2.51MB/s]\n",
      "21-Dec-2023 17:30:55 DEBUG downloader - Size validation passed\n",
      "21-Dec-2023 17:30:55 DEBUG downloader - Moving /tmp/tmp2rfdv2h6 to /home/alarsen/Projects/pytranscript/projects/cancer_demo/Supp_GSM1045236_Breast_cancer__T101A_9_12_04/GSM1045236_T101A_9_12_04.CEL.gz\n",
      "21-Dec-2023 17:30:55 DEBUG downloader - Successfully downloaded ftp://ftp.ncbi.nlm.nih.gov/geo/samples/GSM1045nnn/GSM1045236/suppl/GSM1045236_T101A_9_12_04.CEL.gz\n",
      "21-Dec-2023 17:30:55 ERROR GEOTypes - Cannot download GSM1045236 SRA file (argument of type 'NoneType' is not iterable)\n"
     ]
    },
    {
     "name": "stdout",
     "output_type": "stream",
     "text": [
      "Downloading GSM1045237...\n"
     ]
    },
    {
     "name": "stderr",
     "output_type": "stream",
     "text": [
      "100%|██████████| 7.67M/7.67M [00:03<00:00, 2.12MB/s]\n",
      "21-Dec-2023 17:30:59 DEBUG downloader - Size validation passed\n",
      "21-Dec-2023 17:30:59 DEBUG downloader - Moving /tmp/tmpunn43ggw to /home/alarsen/Projects/pytranscript/projects/cancer_demo/Supp_GSM1045237_Breast_cancer__T103_9_12_04/GSM1045237_T103_9_12_04.CEL.gz\n",
      "21-Dec-2023 17:31:00 DEBUG downloader - Successfully downloaded ftp://ftp.ncbi.nlm.nih.gov/geo/samples/GSM1045nnn/GSM1045237/suppl/GSM1045237_T103_9_12_04.CEL.gz\n",
      "21-Dec-2023 17:31:00 ERROR GEOTypes - Cannot download GSM1045237 SRA file (argument of type 'NoneType' is not iterable)\n"
     ]
    },
    {
     "name": "stdout",
     "output_type": "stream",
     "text": [
      "Downloading GSM1045238...\n"
     ]
    },
    {
     "name": "stderr",
     "output_type": "stream",
     "text": [
      "100%|██████████| 7.65M/7.65M [00:03<00:00, 2.16MB/s]\n",
      "21-Dec-2023 17:31:04 DEBUG downloader - Size validation passed\n",
      "21-Dec-2023 17:31:04 DEBUG downloader - Moving /tmp/tmpmpntnvp6 to /home/alarsen/Projects/pytranscript/projects/cancer_demo/Supp_GSM1045238_Breast_cancer__T104_9_12_04/GSM1045238_T104_9_12_04.CEL.gz\n",
      "21-Dec-2023 17:31:04 DEBUG downloader - Successfully downloaded ftp://ftp.ncbi.nlm.nih.gov/geo/samples/GSM1045nnn/GSM1045238/suppl/GSM1045238_T104_9_12_04.CEL.gz\n",
      "21-Dec-2023 17:31:04 ERROR GEOTypes - Cannot download GSM1045238 SRA file (argument of type 'NoneType' is not iterable)\n"
     ]
    },
    {
     "name": "stdout",
     "output_type": "stream",
     "text": [
      "Downloading GSM1045239...\n"
     ]
    },
    {
     "name": "stderr",
     "output_type": "stream",
     "text": [
      "100%|██████████| 7.81M/7.81M [00:02<00:00, 2.85MB/s]\n",
      "21-Dec-2023 17:31:08 DEBUG downloader - Size validation passed\n",
      "21-Dec-2023 17:31:08 DEBUG downloader - Moving /tmp/tmpa3ux4e64 to /home/alarsen/Projects/pytranscript/projects/cancer_demo/Supp_GSM1045239_Breast_cancer__T105B/GSM1045239_T105B.CEL.gz\n",
      "21-Dec-2023 17:31:08 DEBUG downloader - Successfully downloaded ftp://ftp.ncbi.nlm.nih.gov/geo/samples/GSM1045nnn/GSM1045239/suppl/GSM1045239_T105B.CEL.gz\n",
      "21-Dec-2023 17:31:08 ERROR GEOTypes - Cannot download GSM1045239 SRA file (argument of type 'NoneType' is not iterable)\n"
     ]
    },
    {
     "name": "stdout",
     "output_type": "stream",
     "text": [
      "Downloading GSM1045240...\n"
     ]
    },
    {
     "name": "stderr",
     "output_type": "stream",
     "text": [
      "100%|██████████| 7.57M/7.57M [00:02<00:00, 3.25MB/s]\n",
      "21-Dec-2023 17:31:11 DEBUG downloader - Size validation passed\n",
      "21-Dec-2023 17:31:11 DEBUG downloader - Moving /tmp/tmp4etq10za to /home/alarsen/Projects/pytranscript/projects/cancer_demo/Supp_GSM1045240_Breast_cancer__T106_21_12_04/GSM1045240_T106_21_12_04.CEL.gz\n",
      "21-Dec-2023 17:31:11 DEBUG downloader - Successfully downloaded ftp://ftp.ncbi.nlm.nih.gov/geo/samples/GSM1045nnn/GSM1045240/suppl/GSM1045240_T106_21_12_04.CEL.gz\n",
      "21-Dec-2023 17:31:11 ERROR GEOTypes - Cannot download GSM1045240 SRA file (argument of type 'NoneType' is not iterable)\n"
     ]
    },
    {
     "name": "stdout",
     "output_type": "stream",
     "text": [
      "Downloading GSM1045241...\n"
     ]
    },
    {
     "name": "stderr",
     "output_type": "stream",
     "text": [
      "100%|██████████| 7.59M/7.59M [00:02<00:00, 3.24MB/s]\n",
      "21-Dec-2023 17:31:14 DEBUG downloader - Size validation passed\n",
      "21-Dec-2023 17:31:14 DEBUG downloader - Moving /tmp/tmpfpbdyo0n to /home/alarsen/Projects/pytranscript/projects/cancer_demo/Supp_GSM1045241_Breast_cancer__T107_7_12_04/GSM1045241_T107_7_12_04.CEL.gz\n",
      "21-Dec-2023 17:31:14 DEBUG downloader - Successfully downloaded ftp://ftp.ncbi.nlm.nih.gov/geo/samples/GSM1045nnn/GSM1045241/suppl/GSM1045241_T107_7_12_04.CEL.gz\n",
      "21-Dec-2023 17:31:14 ERROR GEOTypes - Cannot download GSM1045241 SRA file (argument of type 'NoneType' is not iterable)\n"
     ]
    },
    {
     "name": "stdout",
     "output_type": "stream",
     "text": [
      "Downloading GSM1045242...\n"
     ]
    },
    {
     "name": "stderr",
     "output_type": "stream",
     "text": [
      "100%|██████████| 7.61M/7.61M [00:02<00:00, 2.79MB/s]\n",
      "21-Dec-2023 17:31:18 DEBUG downloader - Size validation passed\n",
      "21-Dec-2023 17:31:18 DEBUG downloader - Moving /tmp/tmp0bxkobye to /home/alarsen/Projects/pytranscript/projects/cancer_demo/Supp_GSM1045242_Breast_cancer__T108_21_12_04/GSM1045242_T108_21_12_04.CEL.gz\n",
      "21-Dec-2023 17:31:18 DEBUG downloader - Successfully downloaded ftp://ftp.ncbi.nlm.nih.gov/geo/samples/GSM1045nnn/GSM1045242/suppl/GSM1045242_T108_21_12_04.CEL.gz\n",
      "21-Dec-2023 17:31:18 ERROR GEOTypes - Cannot download GSM1045242 SRA file (argument of type 'NoneType' is not iterable)\n"
     ]
    },
    {
     "name": "stdout",
     "output_type": "stream",
     "text": [
      "Downloading GSM1045243...\n"
     ]
    },
    {
     "name": "stderr",
     "output_type": "stream",
     "text": [
      "100%|██████████| 7.49M/7.49M [00:02<00:00, 2.64MB/s]\n",
      "21-Dec-2023 17:31:21 DEBUG downloader - Size validation passed\n",
      "21-Dec-2023 17:31:21 DEBUG downloader - Moving /tmp/tmpp176g_sw to /home/alarsen/Projects/pytranscript/projects/cancer_demo/Supp_GSM1045243_Breast_cancer__T109_21_12_04/GSM1045243_T109_21_12_04.CEL.gz\n",
      "21-Dec-2023 17:31:21 DEBUG downloader - Successfully downloaded ftp://ftp.ncbi.nlm.nih.gov/geo/samples/GSM1045nnn/GSM1045243/suppl/GSM1045243_T109_21_12_04.CEL.gz\n",
      "21-Dec-2023 17:31:21 ERROR GEOTypes - Cannot download GSM1045243 SRA file (argument of type 'NoneType' is not iterable)\n"
     ]
    },
    {
     "name": "stdout",
     "output_type": "stream",
     "text": [
      "Downloading GSM1045244...\n"
     ]
    },
    {
     "name": "stderr",
     "output_type": "stream",
     "text": [
      "100%|██████████| 7.53M/7.53M [00:03<00:00, 2.60MB/s]\n",
      "21-Dec-2023 17:31:24 DEBUG downloader - Size validation passed\n",
      "21-Dec-2023 17:31:24 DEBUG downloader - Moving /tmp/tmpblhx4yte to /home/alarsen/Projects/pytranscript/projects/cancer_demo/Supp_GSM1045244_Breast_cancer__T11_21_12_04/GSM1045244_T11_21_12_04.CEL.gz\n",
      "21-Dec-2023 17:31:24 DEBUG downloader - Successfully downloaded ftp://ftp.ncbi.nlm.nih.gov/geo/samples/GSM1045nnn/GSM1045244/suppl/GSM1045244_T11_21_12_04.CEL.gz\n",
      "21-Dec-2023 17:31:24 ERROR GEOTypes - Cannot download GSM1045244 SRA file (argument of type 'NoneType' is not iterable)\n"
     ]
    },
    {
     "name": "stdout",
     "output_type": "stream",
     "text": [
      "Downloading GSM1045245...\n"
     ]
    },
    {
     "name": "stderr",
     "output_type": "stream",
     "text": [
      "100%|██████████| 7.48M/7.48M [00:03<00:00, 2.43MB/s]\n",
      "21-Dec-2023 17:31:28 DEBUG downloader - Size validation passed\n",
      "21-Dec-2023 17:31:28 DEBUG downloader - Moving /tmp/tmpdv5egglb to /home/alarsen/Projects/pytranscript/projects/cancer_demo/Supp_GSM1045245_Breast_cancer__T111_14_12_04/GSM1045245_T111_14_12_04.CEL.gz\n",
      "21-Dec-2023 17:31:28 DEBUG downloader - Successfully downloaded ftp://ftp.ncbi.nlm.nih.gov/geo/samples/GSM1045nnn/GSM1045245/suppl/GSM1045245_T111_14_12_04.CEL.gz\n",
      "21-Dec-2023 17:31:28 ERROR GEOTypes - Cannot download GSM1045245 SRA file (argument of type 'NoneType' is not iterable)\n"
     ]
    },
    {
     "name": "stdout",
     "output_type": "stream",
     "text": [
      "Downloading GSM1045246...\n"
     ]
    },
    {
     "name": "stderr",
     "output_type": "stream",
     "text": [
      "100%|██████████| 7.48M/7.48M [00:03<00:00, 2.21MB/s]\n",
      "21-Dec-2023 17:31:32 DEBUG downloader - Size validation passed\n",
      "21-Dec-2023 17:31:32 DEBUG downloader - Moving /tmp/tmpixkcjpps to /home/alarsen/Projects/pytranscript/projects/cancer_demo/Supp_GSM1045246_Breast_cancer__T112_3_12_04/GSM1045246_T112_3_12_04.CEL.gz\n",
      "21-Dec-2023 17:31:32 DEBUG downloader - Successfully downloaded ftp://ftp.ncbi.nlm.nih.gov/geo/samples/GSM1045nnn/GSM1045246/suppl/GSM1045246_T112_3_12_04.CEL.gz\n",
      "21-Dec-2023 17:31:32 ERROR GEOTypes - Cannot download GSM1045246 SRA file (argument of type 'NoneType' is not iterable)\n"
     ]
    },
    {
     "name": "stdout",
     "output_type": "stream",
     "text": [
      "Downloading GSM1045247...\n"
     ]
    },
    {
     "name": "stderr",
     "output_type": "stream",
     "text": [
      "100%|██████████| 7.83M/7.83M [00:05<00:00, 1.52MB/s]\n",
      "21-Dec-2023 17:31:39 DEBUG downloader - Size validation passed\n",
      "21-Dec-2023 17:31:39 DEBUG downloader - Moving /tmp/tmpuxck1utm to /home/alarsen/Projects/pytranscript/projects/cancer_demo/Supp_GSM1045247_Breast_cancer__T113_22_12_04/GSM1045247_T113_22_12_04.CEL.gz\n",
      "21-Dec-2023 17:31:39 DEBUG downloader - Successfully downloaded ftp://ftp.ncbi.nlm.nih.gov/geo/samples/GSM1045nnn/GSM1045247/suppl/GSM1045247_T113_22_12_04.CEL.gz\n",
      "21-Dec-2023 17:31:39 ERROR GEOTypes - Cannot download GSM1045247 SRA file (argument of type 'NoneType' is not iterable)\n"
     ]
    },
    {
     "name": "stdout",
     "output_type": "stream",
     "text": [
      "Downloading GSM1045248...\n"
     ]
    },
    {
     "name": "stderr",
     "output_type": "stream",
     "text": [
      "100%|██████████| 7.86M/7.86M [00:03<00:00, 2.47MB/s]\n",
      "21-Dec-2023 17:31:43 DEBUG downloader - Size validation passed\n",
      "21-Dec-2023 17:31:43 DEBUG downloader - Moving /tmp/tmpxc8o35ta to /home/alarsen/Projects/pytranscript/projects/cancer_demo/Supp_GSM1045248_Breast_cancer__T114_7_12_04/GSM1045248_T114_7_12_04.CEL.gz\n",
      "21-Dec-2023 17:31:43 DEBUG downloader - Successfully downloaded ftp://ftp.ncbi.nlm.nih.gov/geo/samples/GSM1045nnn/GSM1045248/suppl/GSM1045248_T114_7_12_04.CEL.gz\n",
      "21-Dec-2023 17:31:43 ERROR GEOTypes - Cannot download GSM1045248 SRA file (argument of type 'NoneType' is not iterable)\n"
     ]
    },
    {
     "name": "stdout",
     "output_type": "stream",
     "text": [
      "Downloading GSM1045249...\n"
     ]
    },
    {
     "name": "stderr",
     "output_type": "stream",
     "text": [
      "100%|██████████| 7.40M/7.40M [00:03<00:00, 2.13MB/s]\n",
      "21-Dec-2023 17:31:47 DEBUG downloader - Size validation passed\n",
      "21-Dec-2023 17:31:47 DEBUG downloader - Moving /tmp/tmpy9ba1zkf to /home/alarsen/Projects/pytranscript/projects/cancer_demo/Supp_GSM1045249_Breast_cancer__T115_15_12_04/GSM1045249_T115_15_12_04.CEL.gz\n",
      "21-Dec-2023 17:31:47 DEBUG downloader - Successfully downloaded ftp://ftp.ncbi.nlm.nih.gov/geo/samples/GSM1045nnn/GSM1045249/suppl/GSM1045249_T115_15_12_04.CEL.gz\n",
      "21-Dec-2023 17:31:47 ERROR GEOTypes - Cannot download GSM1045249 SRA file (argument of type 'NoneType' is not iterable)\n"
     ]
    },
    {
     "name": "stdout",
     "output_type": "stream",
     "text": [
      "Downloading GSM1045250...\n"
     ]
    },
    {
     "name": "stderr",
     "output_type": "stream",
     "text": [
      "100%|██████████| 7.57M/7.57M [00:06<00:00, 1.19MB/s]\n",
      "21-Dec-2023 17:31:54 DEBUG downloader - Size validation passed\n",
      "21-Dec-2023 17:31:54 DEBUG downloader - Moving /tmp/tmp9von4f47 to /home/alarsen/Projects/pytranscript/projects/cancer_demo/Supp_GSM1045250_Breast_cancer__T119_8_12_04/GSM1045250_T119_8_12_04.CEL.gz\n",
      "21-Dec-2023 17:31:54 DEBUG downloader - Successfully downloaded ftp://ftp.ncbi.nlm.nih.gov/geo/samples/GSM1045nnn/GSM1045250/suppl/GSM1045250_T119_8_12_04.CEL.gz\n",
      "21-Dec-2023 17:31:54 ERROR GEOTypes - Cannot download GSM1045250 SRA file (argument of type 'NoneType' is not iterable)\n"
     ]
    },
    {
     "name": "stdout",
     "output_type": "stream",
     "text": [
      "Downloading GSM1045251...\n"
     ]
    },
    {
     "name": "stderr",
     "output_type": "stream",
     "text": [
      "100%|██████████| 7.74M/7.74M [00:04<00:00, 1.81MB/s]\n",
      "21-Dec-2023 17:31:59 DEBUG downloader - Size validation passed\n",
      "21-Dec-2023 17:31:59 DEBUG downloader - Moving /tmp/tmpc_hhnei1 to /home/alarsen/Projects/pytranscript/projects/cancer_demo/Supp_GSM1045251_Breast_cancer__T12_22_12_04/GSM1045251_T12_22_12_04.CEL.gz\n",
      "21-Dec-2023 17:31:59 DEBUG downloader - Successfully downloaded ftp://ftp.ncbi.nlm.nih.gov/geo/samples/GSM1045nnn/GSM1045251/suppl/GSM1045251_T12_22_12_04.CEL.gz\n",
      "21-Dec-2023 17:31:59 ERROR GEOTypes - Cannot download GSM1045251 SRA file (argument of type 'NoneType' is not iterable)\n"
     ]
    },
    {
     "name": "stdout",
     "output_type": "stream",
     "text": [
      "Downloading GSM1045252...\n"
     ]
    },
    {
     "name": "stderr",
     "output_type": "stream",
     "text": [
      "100%|██████████| 7.67M/7.67M [00:03<00:00, 2.57MB/s]\n",
      "21-Dec-2023 17:32:03 DEBUG downloader - Size validation passed\n",
      "21-Dec-2023 17:32:03 DEBUG downloader - Moving /tmp/tmp8ogbgan9 to /home/alarsen/Projects/pytranscript/projects/cancer_demo/Supp_GSM1045252_Breast_cancer__T120_10_12_04/GSM1045252_T120_10_12_04.CEL.gz\n",
      "21-Dec-2023 17:32:03 DEBUG downloader - Successfully downloaded ftp://ftp.ncbi.nlm.nih.gov/geo/samples/GSM1045nnn/GSM1045252/suppl/GSM1045252_T120_10_12_04.CEL.gz\n",
      "21-Dec-2023 17:32:03 ERROR GEOTypes - Cannot download GSM1045252 SRA file (argument of type 'NoneType' is not iterable)\n"
     ]
    },
    {
     "name": "stdout",
     "output_type": "stream",
     "text": [
      "Downloading GSM1045253...\n"
     ]
    },
    {
     "name": "stderr",
     "output_type": "stream",
     "text": [
      "100%|██████████| 7.65M/7.65M [00:05<00:00, 1.42MB/s]\n",
      "21-Dec-2023 17:32:09 DEBUG downloader - Size validation passed\n",
      "21-Dec-2023 17:32:09 DEBUG downloader - Moving /tmp/tmpae325zgp to /home/alarsen/Projects/pytranscript/projects/cancer_demo/Supp_GSM1045253_Breast_cancer__T122_9_12_04/GSM1045253_T122_9_12_04.CEL.gz\n",
      "21-Dec-2023 17:32:09 DEBUG downloader - Successfully downloaded ftp://ftp.ncbi.nlm.nih.gov/geo/samples/GSM1045nnn/GSM1045253/suppl/GSM1045253_T122_9_12_04.CEL.gz\n",
      "21-Dec-2023 17:32:09 ERROR GEOTypes - Cannot download GSM1045253 SRA file (argument of type 'NoneType' is not iterable)\n"
     ]
    },
    {
     "name": "stdout",
     "output_type": "stream",
     "text": [
      "Downloading GSM1045254...\n"
     ]
    },
    {
     "name": "stderr",
     "output_type": "stream",
     "text": [
      "100%|██████████| 7.79M/7.79M [00:05<00:00, 1.62MB/s]\n",
      "21-Dec-2023 17:32:15 DEBUG downloader - Size validation passed\n",
      "21-Dec-2023 17:32:15 DEBUG downloader - Moving /tmp/tmp4vl2fi5_ to /home/alarsen/Projects/pytranscript/projects/cancer_demo/Supp_GSM1045254_Breast_cancer__T123_14_12_04/GSM1045254_T123_14_12_04.CEL.gz\n",
      "21-Dec-2023 17:32:15 DEBUG downloader - Successfully downloaded ftp://ftp.ncbi.nlm.nih.gov/geo/samples/GSM1045nnn/GSM1045254/suppl/GSM1045254_T123_14_12_04.CEL.gz\n",
      "21-Dec-2023 17:32:15 ERROR GEOTypes - Cannot download GSM1045254 SRA file (argument of type 'NoneType' is not iterable)\n"
     ]
    },
    {
     "name": "stdout",
     "output_type": "stream",
     "text": [
      "Downloading GSM1045255...\n"
     ]
    },
    {
     "name": "stderr",
     "output_type": "stream",
     "text": [
      "100%|██████████| 7.73M/7.73M [00:03<00:00, 2.05MB/s]\n",
      "21-Dec-2023 17:32:20 DEBUG downloader - Size validation passed\n",
      "21-Dec-2023 17:32:20 DEBUG downloader - Moving /tmp/tmpg9toao74 to /home/alarsen/Projects/pytranscript/projects/cancer_demo/Supp_GSM1045255_Breast_cancer__T124_25_1_05/GSM1045255_T124_25_1_05.CEL.gz\n",
      "21-Dec-2023 17:32:20 DEBUG downloader - Successfully downloaded ftp://ftp.ncbi.nlm.nih.gov/geo/samples/GSM1045nnn/GSM1045255/suppl/GSM1045255_T124_25_1_05.CEL.gz\n",
      "21-Dec-2023 17:32:20 ERROR GEOTypes - Cannot download GSM1045255 SRA file (argument of type 'NoneType' is not iterable)\n"
     ]
    },
    {
     "name": "stdout",
     "output_type": "stream",
     "text": [
      "Downloading GSM1045256...\n"
     ]
    },
    {
     "name": "stderr",
     "output_type": "stream",
     "text": [
      "100%|██████████| 6.94M/6.94M [00:03<00:00, 1.88MB/s]\n",
      "21-Dec-2023 17:32:24 DEBUG downloader - Size validation passed\n",
      "21-Dec-2023 17:32:24 DEBUG downloader - Moving /tmp/tmpkavpgsrw to /home/alarsen/Projects/pytranscript/projects/cancer_demo/Supp_GSM1045256_Breast_cancer__T125_21_12_04/GSM1045256_T125_21_12_04.CEL.gz\n",
      "21-Dec-2023 17:32:24 DEBUG downloader - Successfully downloaded ftp://ftp.ncbi.nlm.nih.gov/geo/samples/GSM1045nnn/GSM1045256/suppl/GSM1045256_T125_21_12_04.CEL.gz\n",
      "21-Dec-2023 17:32:24 ERROR GEOTypes - Cannot download GSM1045256 SRA file (argument of type 'NoneType' is not iterable)\n"
     ]
    },
    {
     "name": "stdout",
     "output_type": "stream",
     "text": [
      "Downloading GSM1045257...\n"
     ]
    },
    {
     "name": "stderr",
     "output_type": "stream",
     "text": [
      "100%|██████████| 7.73M/7.73M [00:03<00:00, 2.12MB/s]\n",
      "21-Dec-2023 17:32:29 DEBUG downloader - Size validation passed\n",
      "21-Dec-2023 17:32:29 DEBUG downloader - Moving /tmp/tmpehtukggo to /home/alarsen/Projects/pytranscript/projects/cancer_demo/Supp_GSM1045257_Breast_cancer__T127_8_12_04/GSM1045257_T127_8_12_04.CEL.gz\n",
      "21-Dec-2023 17:32:29 DEBUG downloader - Successfully downloaded ftp://ftp.ncbi.nlm.nih.gov/geo/samples/GSM1045nnn/GSM1045257/suppl/GSM1045257_T127_8_12_04.CEL.gz\n",
      "21-Dec-2023 17:32:29 ERROR GEOTypes - Cannot download GSM1045257 SRA file (argument of type 'NoneType' is not iterable)\n"
     ]
    },
    {
     "name": "stdout",
     "output_type": "stream",
     "text": [
      "Downloading GSM1045258...\n"
     ]
    },
    {
     "name": "stderr",
     "output_type": "stream",
     "text": [
      "100%|██████████| 7.77M/7.77M [00:02<00:00, 2.80MB/s]\n",
      "21-Dec-2023 17:32:32 DEBUG downloader - Size validation passed\n",
      "21-Dec-2023 17:32:32 DEBUG downloader - Moving /tmp/tmpimcbdwa2 to /home/alarsen/Projects/pytranscript/projects/cancer_demo/Supp_GSM1045258_Breast_cancer__T128_22_12_04/GSM1045258_T128_22_12_04.CEL.gz\n",
      "21-Dec-2023 17:32:32 DEBUG downloader - Successfully downloaded ftp://ftp.ncbi.nlm.nih.gov/geo/samples/GSM1045nnn/GSM1045258/suppl/GSM1045258_T128_22_12_04.CEL.gz\n",
      "21-Dec-2023 17:32:32 ERROR GEOTypes - Cannot download GSM1045258 SRA file (argument of type 'NoneType' is not iterable)\n"
     ]
    },
    {
     "name": "stdout",
     "output_type": "stream",
     "text": [
      "Downloading GSM1045259...\n"
     ]
    },
    {
     "name": "stderr",
     "output_type": "stream",
     "text": [
      "100%|██████████| 7.43M/7.43M [00:06<00:00, 1.28MB/s]\n",
      "21-Dec-2023 17:32:39 DEBUG downloader - Size validation passed\n",
      "21-Dec-2023 17:32:39 DEBUG downloader - Moving /tmp/tmpqrow8p_x to /home/alarsen/Projects/pytranscript/projects/cancer_demo/Supp_GSM1045259_Breast_cancer__T129_20_12_04/GSM1045259_T129_20_12_04.CEL.gz\n",
      "21-Dec-2023 17:32:39 DEBUG downloader - Successfully downloaded ftp://ftp.ncbi.nlm.nih.gov/geo/samples/GSM1045nnn/GSM1045259/suppl/GSM1045259_T129_20_12_04.CEL.gz\n",
      "21-Dec-2023 17:32:39 ERROR GEOTypes - Cannot download GSM1045259 SRA file (argument of type 'NoneType' is not iterable)\n"
     ]
    },
    {
     "name": "stdout",
     "output_type": "stream",
     "text": [
      "Downloading GSM1045260...\n"
     ]
    },
    {
     "name": "stderr",
     "output_type": "stream",
     "text": [
      "100%|██████████| 7.94M/7.94M [00:03<00:00, 2.10MB/s]\n",
      "21-Dec-2023 17:32:43 DEBUG downloader - Size validation passed\n",
      "21-Dec-2023 17:32:43 DEBUG downloader - Moving /tmp/tmp63em9bvs to /home/alarsen/Projects/pytranscript/projects/cancer_demo/Supp_GSM1045260_Breast_cancer__T13_9_12_04/GSM1045260_T13_9_12_04.CEL.gz\n",
      "21-Dec-2023 17:32:43 DEBUG downloader - Successfully downloaded ftp://ftp.ncbi.nlm.nih.gov/geo/samples/GSM1045nnn/GSM1045260/suppl/GSM1045260_T13_9_12_04.CEL.gz\n",
      "21-Dec-2023 17:32:43 ERROR GEOTypes - Cannot download GSM1045260 SRA file (argument of type 'NoneType' is not iterable)\n"
     ]
    },
    {
     "name": "stdout",
     "output_type": "stream",
     "text": [
      "Downloading GSM1045261...\n"
     ]
    },
    {
     "name": "stderr",
     "output_type": "stream",
     "text": [
      "100%|██████████| 7.99M/7.99M [00:03<00:00, 2.25MB/s]\n",
      "21-Dec-2023 17:32:48 DEBUG downloader - Size validation passed\n",
      "21-Dec-2023 17:32:48 DEBUG downloader - Moving /tmp/tmpgimd125s to /home/alarsen/Projects/pytranscript/projects/cancer_demo/Supp_GSM1045261_Breast_cancer__T130_8_12_04/GSM1045261_T130_8_12_04.CEL.gz\n",
      "21-Dec-2023 17:32:48 DEBUG downloader - Successfully downloaded ftp://ftp.ncbi.nlm.nih.gov/geo/samples/GSM1045nnn/GSM1045261/suppl/GSM1045261_T130_8_12_04.CEL.gz\n",
      "21-Dec-2023 17:32:48 ERROR GEOTypes - Cannot download GSM1045261 SRA file (argument of type 'NoneType' is not iterable)\n"
     ]
    },
    {
     "name": "stdout",
     "output_type": "stream",
     "text": [
      "Downloading GSM1045262...\n"
     ]
    },
    {
     "name": "stderr",
     "output_type": "stream",
     "text": [
      "100%|██████████| 7.82M/7.82M [00:04<00:00, 1.67MB/s]\n",
      "21-Dec-2023 17:32:53 DEBUG downloader - Size validation passed\n",
      "21-Dec-2023 17:32:53 DEBUG downloader - Moving /tmp/tmpl2q85s1l to /home/alarsen/Projects/pytranscript/projects/cancer_demo/Supp_GSM1045262_Breast_cancer__T131_22_12_04/GSM1045262_T131_22_12_04.CEL.gz\n",
      "21-Dec-2023 17:32:53 DEBUG downloader - Successfully downloaded ftp://ftp.ncbi.nlm.nih.gov/geo/samples/GSM1045nnn/GSM1045262/suppl/GSM1045262_T131_22_12_04.CEL.gz\n",
      "21-Dec-2023 17:32:53 ERROR GEOTypes - Cannot download GSM1045262 SRA file (argument of type 'NoneType' is not iterable)\n"
     ]
    },
    {
     "name": "stdout",
     "output_type": "stream",
     "text": [
      "Downloading GSM1045263...\n"
     ]
    },
    {
     "name": "stderr",
     "output_type": "stream",
     "text": [
      "100%|██████████| 7.50M/7.50M [00:04<00:00, 1.63MB/s]\n",
      "21-Dec-2023 17:32:59 DEBUG downloader - Size validation passed\n",
      "21-Dec-2023 17:32:59 DEBUG downloader - Moving /tmp/tmpv70cdfuc to /home/alarsen/Projects/pytranscript/projects/cancer_demo/Supp_GSM1045263_Breast_cancer__T132/GSM1045263_T132.CEL.gz\n",
      "21-Dec-2023 17:32:59 DEBUG downloader - Successfully downloaded ftp://ftp.ncbi.nlm.nih.gov/geo/samples/GSM1045nnn/GSM1045263/suppl/GSM1045263_T132.CEL.gz\n",
      "21-Dec-2023 17:32:59 ERROR GEOTypes - Cannot download GSM1045263 SRA file (argument of type 'NoneType' is not iterable)\n"
     ]
    },
    {
     "name": "stdout",
     "output_type": "stream",
     "text": [
      "Downloading GSM1045264...\n"
     ]
    },
    {
     "name": "stderr",
     "output_type": "stream",
     "text": [
      "100%|██████████| 8.02M/8.02M [00:08<00:00, 1.00MB/s]\n",
      "21-Dec-2023 17:33:08 DEBUG downloader - Size validation passed\n",
      "21-Dec-2023 17:33:08 DEBUG downloader - Moving /tmp/tmpfya9ylio to /home/alarsen/Projects/pytranscript/projects/cancer_demo/Supp_GSM1045264_Breast_cancer__T134_7_12_04/GSM1045264_T134_7_12_04.CEL.gz\n",
      "21-Dec-2023 17:33:08 DEBUG downloader - Successfully downloaded ftp://ftp.ncbi.nlm.nih.gov/geo/samples/GSM1045nnn/GSM1045264/suppl/GSM1045264_T134_7_12_04.CEL.gz\n",
      "21-Dec-2023 17:33:08 ERROR GEOTypes - Cannot download GSM1045264 SRA file (argument of type 'NoneType' is not iterable)\n"
     ]
    },
    {
     "name": "stdout",
     "output_type": "stream",
     "text": [
      "Downloading GSM1045265...\n"
     ]
    },
    {
     "name": "stderr",
     "output_type": "stream",
     "text": [
      "100%|██████████| 7.94M/7.94M [00:04<00:00, 1.68MB/s]\n",
      "21-Dec-2023 17:33:13 DEBUG downloader - Size validation passed\n",
      "21-Dec-2023 17:33:13 DEBUG downloader - Moving /tmp/tmpz9nrdfzc to /home/alarsen/Projects/pytranscript/projects/cancer_demo/Supp_GSM1045265_Breast_cancer__T14_21_12_04/GSM1045265_T14_21_12_04.CEL.gz\n",
      "21-Dec-2023 17:33:13 DEBUG downloader - Successfully downloaded ftp://ftp.ncbi.nlm.nih.gov/geo/samples/GSM1045nnn/GSM1045265/suppl/GSM1045265_T14_21_12_04.CEL.gz\n",
      "21-Dec-2023 17:33:13 ERROR GEOTypes - Cannot download GSM1045265 SRA file (argument of type 'NoneType' is not iterable)\n"
     ]
    },
    {
     "name": "stdout",
     "output_type": "stream",
     "text": [
      "Downloading GSM1045266...\n"
     ]
    },
    {
     "name": "stderr",
     "output_type": "stream",
     "text": [
      "100%|██████████| 7.55M/7.55M [00:04<00:00, 1.85MB/s]\n",
      "21-Dec-2023 17:33:18 DEBUG downloader - Size validation passed\n",
      "21-Dec-2023 17:33:18 DEBUG downloader - Moving /tmp/tmpmdz4upb8 to /home/alarsen/Projects/pytranscript/projects/cancer_demo/Supp_GSM1045266_Breast_cancer__T18_22_12_04/GSM1045266_T18_22_12_04.CEL.gz\n",
      "21-Dec-2023 17:33:18 DEBUG downloader - Successfully downloaded ftp://ftp.ncbi.nlm.nih.gov/geo/samples/GSM1045nnn/GSM1045266/suppl/GSM1045266_T18_22_12_04.CEL.gz\n",
      "21-Dec-2023 17:33:18 ERROR GEOTypes - Cannot download GSM1045266 SRA file (argument of type 'NoneType' is not iterable)\n"
     ]
    },
    {
     "name": "stdout",
     "output_type": "stream",
     "text": [
      "Downloading GSM1045267...\n"
     ]
    },
    {
     "name": "stderr",
     "output_type": "stream",
     "text": [
      "100%|██████████| 7.52M/7.52M [00:04<00:00, 1.60MB/s]\n",
      "21-Dec-2023 17:33:23 DEBUG downloader - Size validation passed\n",
      "21-Dec-2023 17:33:23 DEBUG downloader - Moving /tmp/tmp_l7jcpkx to /home/alarsen/Projects/pytranscript/projects/cancer_demo/Supp_GSM1045267_Breast_cancer__T2_7_12_04/GSM1045267_T2_7_12_04.CEL.gz\n",
      "21-Dec-2023 17:33:23 DEBUG downloader - Successfully downloaded ftp://ftp.ncbi.nlm.nih.gov/geo/samples/GSM1045nnn/GSM1045267/suppl/GSM1045267_T2_7_12_04.CEL.gz\n",
      "21-Dec-2023 17:33:23 ERROR GEOTypes - Cannot download GSM1045267 SRA file (argument of type 'NoneType' is not iterable)\n"
     ]
    },
    {
     "name": "stdout",
     "output_type": "stream",
     "text": [
      "Downloading GSM1045268...\n"
     ]
    },
    {
     "name": "stderr",
     "output_type": "stream",
     "text": [
      "100%|██████████| 7.92M/7.92M [00:07<00:00, 1.16MB/s]\n",
      "21-Dec-2023 17:33:31 DEBUG downloader - Size validation passed\n",
      "21-Dec-2023 17:33:31 DEBUG downloader - Moving /tmp/tmply15se_7 to /home/alarsen/Projects/pytranscript/projects/cancer_demo/Supp_GSM1045268_Breast_cancer__T20_20_12_04/GSM1045268_T20_20_12_04.CEL.gz\n",
      "21-Dec-2023 17:33:31 DEBUG downloader - Successfully downloaded ftp://ftp.ncbi.nlm.nih.gov/geo/samples/GSM1045nnn/GSM1045268/suppl/GSM1045268_T20_20_12_04.CEL.gz\n",
      "21-Dec-2023 17:33:31 ERROR GEOTypes - Cannot download GSM1045268 SRA file (argument of type 'NoneType' is not iterable)\n"
     ]
    },
    {
     "name": "stdout",
     "output_type": "stream",
     "text": [
      "Downloading GSM1045269...\n"
     ]
    },
    {
     "name": "stderr",
     "output_type": "stream",
     "text": [
      "100%|██████████| 7.99M/7.99M [00:06<00:00, 1.36MB/s]  \n",
      "21-Dec-2023 17:33:38 DEBUG downloader - Size validation passed\n",
      "21-Dec-2023 17:33:38 DEBUG downloader - Moving /tmp/tmpkjzgwk1t to /home/alarsen/Projects/pytranscript/projects/cancer_demo/Supp_GSM1045269_Breast_cancer__T21_21_12_04/GSM1045269_T21_21_12_04.CEL.gz\n",
      "21-Dec-2023 17:33:38 DEBUG downloader - Successfully downloaded ftp://ftp.ncbi.nlm.nih.gov/geo/samples/GSM1045nnn/GSM1045269/suppl/GSM1045269_T21_21_12_04.CEL.gz\n",
      "21-Dec-2023 17:33:38 ERROR GEOTypes - Cannot download GSM1045269 SRA file (argument of type 'NoneType' is not iterable)\n"
     ]
    },
    {
     "name": "stdout",
     "output_type": "stream",
     "text": [
      "Downloading GSM1045270...\n"
     ]
    },
    {
     "name": "stderr",
     "output_type": "stream",
     "text": [
      "100%|██████████| 8.29M/8.29M [00:04<00:00, 1.80MB/s]  \n",
      "21-Dec-2023 17:33:43 DEBUG downloader - Size validation passed\n",
      "21-Dec-2023 17:33:43 DEBUG downloader - Moving /tmp/tmp8ec77kpo to /home/alarsen/Projects/pytranscript/projects/cancer_demo/Supp_GSM1045270_Breast_cancer__T22_10_12_04/GSM1045270_T22_10_12_04.CEL.gz\n",
      "21-Dec-2023 17:33:43 DEBUG downloader - Successfully downloaded ftp://ftp.ncbi.nlm.nih.gov/geo/samples/GSM1045nnn/GSM1045270/suppl/GSM1045270_T22_10_12_04.CEL.gz\n",
      "21-Dec-2023 17:33:43 ERROR GEOTypes - Cannot download GSM1045270 SRA file (argument of type 'NoneType' is not iterable)\n"
     ]
    },
    {
     "name": "stdout",
     "output_type": "stream",
     "text": [
      "Downloading GSM1045271...\n"
     ]
    },
    {
     "name": "stderr",
     "output_type": "stream",
     "text": [
      "100%|██████████| 8.20M/8.20M [00:03<00:00, 2.81MB/s]\n",
      "21-Dec-2023 17:33:47 DEBUG downloader - Size validation passed\n",
      "21-Dec-2023 17:33:47 DEBUG downloader - Moving /tmp/tmptakzd08z to /home/alarsen/Projects/pytranscript/projects/cancer_demo/Supp_GSM1045271_Breast_cancer__T23_9_12_04/GSM1045271_T23_9_12_04.CEL.gz\n",
      "21-Dec-2023 17:33:47 DEBUG downloader - Successfully downloaded ftp://ftp.ncbi.nlm.nih.gov/geo/samples/GSM1045nnn/GSM1045271/suppl/GSM1045271_T23_9_12_04.CEL.gz\n",
      "21-Dec-2023 17:33:47 ERROR GEOTypes - Cannot download GSM1045271 SRA file (argument of type 'NoneType' is not iterable)\n"
     ]
    },
    {
     "name": "stdout",
     "output_type": "stream",
     "text": [
      "Downloading GSM1045272...\n"
     ]
    },
    {
     "name": "stderr",
     "output_type": "stream",
     "text": [
      "100%|██████████| 8.20M/8.20M [00:03<00:00, 2.34MB/s]\n",
      "21-Dec-2023 17:33:51 DEBUG downloader - Size validation passed\n",
      "21-Dec-2023 17:33:51 DEBUG downloader - Moving /tmp/tmpywryub6u to /home/alarsen/Projects/pytranscript/projects/cancer_demo/Supp_GSM1045272_Breast_cancer__T24_10_12_04/GSM1045272_T24_10_12_04.CEL.gz\n",
      "21-Dec-2023 17:33:51 DEBUG downloader - Successfully downloaded ftp://ftp.ncbi.nlm.nih.gov/geo/samples/GSM1045nnn/GSM1045272/suppl/GSM1045272_T24_10_12_04.CEL.gz\n",
      "21-Dec-2023 17:33:51 ERROR GEOTypes - Cannot download GSM1045272 SRA file (argument of type 'NoneType' is not iterable)\n"
     ]
    },
    {
     "name": "stdout",
     "output_type": "stream",
     "text": [
      "Downloading GSM1045273...\n"
     ]
    },
    {
     "name": "stderr",
     "output_type": "stream",
     "text": [
      "100%|██████████| 7.86M/7.86M [00:03<00:00, 2.63MB/s]\n",
      "21-Dec-2023 17:33:55 DEBUG downloader - Size validation passed\n",
      "21-Dec-2023 17:33:55 DEBUG downloader - Moving /tmp/tmpao0o_420 to /home/alarsen/Projects/pytranscript/projects/cancer_demo/Supp_GSM1045273_Breast_cancer__T29_14_12_04/GSM1045273_T29_14_12_04.CEL.gz\n",
      "21-Dec-2023 17:33:55 DEBUG downloader - Successfully downloaded ftp://ftp.ncbi.nlm.nih.gov/geo/samples/GSM1045nnn/GSM1045273/suppl/GSM1045273_T29_14_12_04.CEL.gz\n",
      "21-Dec-2023 17:33:55 ERROR GEOTypes - Cannot download GSM1045273 SRA file (argument of type 'NoneType' is not iterable)\n"
     ]
    },
    {
     "name": "stdout",
     "output_type": "stream",
     "text": [
      "Downloading GSM1045274...\n"
     ]
    },
    {
     "name": "stderr",
     "output_type": "stream",
     "text": [
      "100%|██████████| 8.14M/8.14M [00:03<00:00, 2.79MB/s]\n",
      "21-Dec-2023 17:33:58 DEBUG downloader - Size validation passed\n",
      "21-Dec-2023 17:33:58 DEBUG downloader - Moving /tmp/tmp_tc47z8m to /home/alarsen/Projects/pytranscript/projects/cancer_demo/Supp_GSM1045274_Breast_cancer__T30_8_12_04/GSM1045274_T30_8_12_04.CEL.gz\n",
      "21-Dec-2023 17:33:58 DEBUG downloader - Successfully downloaded ftp://ftp.ncbi.nlm.nih.gov/geo/samples/GSM1045nnn/GSM1045274/suppl/GSM1045274_T30_8_12_04.CEL.gz\n",
      "21-Dec-2023 17:33:58 ERROR GEOTypes - Cannot download GSM1045274 SRA file (argument of type 'NoneType' is not iterable)\n"
     ]
    },
    {
     "name": "stdout",
     "output_type": "stream",
     "text": [
      "Downloading GSM1045275...\n"
     ]
    },
    {
     "name": "stderr",
     "output_type": "stream",
     "text": [
      "100%|██████████| 8.03M/8.03M [00:03<00:00, 2.57MB/s]\n",
      "21-Dec-2023 17:34:02 DEBUG downloader - Size validation passed\n",
      "21-Dec-2023 17:34:02 DEBUG downloader - Moving /tmp/tmpcndksuiv to /home/alarsen/Projects/pytranscript/projects/cancer_demo/Supp_GSM1045275_Breast_cancer__T32_3_12_04/GSM1045275_T32_3_12_04.CEL.gz\n",
      "21-Dec-2023 17:34:02 DEBUG downloader - Successfully downloaded ftp://ftp.ncbi.nlm.nih.gov/geo/samples/GSM1045nnn/GSM1045275/suppl/GSM1045275_T32_3_12_04.CEL.gz\n",
      "21-Dec-2023 17:34:02 ERROR GEOTypes - Cannot download GSM1045275 SRA file (argument of type 'NoneType' is not iterable)\n"
     ]
    },
    {
     "name": "stdout",
     "output_type": "stream",
     "text": [
      "Downloading GSM1045276...\n"
     ]
    },
    {
     "name": "stderr",
     "output_type": "stream",
     "text": [
      "100%|██████████| 7.31M/7.31M [00:04<00:00, 1.66MB/s]\n",
      "21-Dec-2023 17:34:07 DEBUG downloader - Size validation passed\n",
      "21-Dec-2023 17:34:07 DEBUG downloader - Moving /tmp/tmp_76jwvlf to /home/alarsen/Projects/pytranscript/projects/cancer_demo/Supp_GSM1045276_Breast_cancer__T33_3_12_04/GSM1045276_T33_3_12_04.CEL.gz\n",
      "21-Dec-2023 17:34:07 DEBUG downloader - Successfully downloaded ftp://ftp.ncbi.nlm.nih.gov/geo/samples/GSM1045nnn/GSM1045276/suppl/GSM1045276_T33_3_12_04.CEL.gz\n",
      "21-Dec-2023 17:34:07 ERROR GEOTypes - Cannot download GSM1045276 SRA file (argument of type 'NoneType' is not iterable)\n"
     ]
    },
    {
     "name": "stdout",
     "output_type": "stream",
     "text": [
      "Downloading GSM1045277...\n"
     ]
    },
    {
     "name": "stderr",
     "output_type": "stream",
     "text": [
      "100%|██████████| 7.12M/7.12M [00:04<00:00, 1.82MB/s]\n",
      "21-Dec-2023 17:34:12 DEBUG downloader - Size validation passed\n",
      "21-Dec-2023 17:34:12 DEBUG downloader - Moving /tmp/tmp3srvkh6u to /home/alarsen/Projects/pytranscript/projects/cancer_demo/Supp_GSM1045277_Breast_cancer__T34_20_12_04/GSM1045277_T34_20_12_04.CEL.gz\n",
      "21-Dec-2023 17:34:12 DEBUG downloader - Successfully downloaded ftp://ftp.ncbi.nlm.nih.gov/geo/samples/GSM1045nnn/GSM1045277/suppl/GSM1045277_T34_20_12_04.CEL.gz\n",
      "21-Dec-2023 17:34:12 ERROR GEOTypes - Cannot download GSM1045277 SRA file (argument of type 'NoneType' is not iterable)\n"
     ]
    },
    {
     "name": "stdout",
     "output_type": "stream",
     "text": [
      "Downloading GSM1045278...\n"
     ]
    },
    {
     "name": "stderr",
     "output_type": "stream",
     "text": [
      "100%|██████████| 7.91M/7.91M [00:03<00:00, 2.40MB/s]\n",
      "21-Dec-2023 17:34:16 DEBUG downloader - Size validation passed\n",
      "21-Dec-2023 17:34:16 DEBUG downloader - Moving /tmp/tmp4palxs4y to /home/alarsen/Projects/pytranscript/projects/cancer_demo/Supp_GSM1045278_Breast_cancer__T35_3_12_04/GSM1045278_T35_3_12_04.CEL.gz\n",
      "21-Dec-2023 17:34:16 DEBUG downloader - Successfully downloaded ftp://ftp.ncbi.nlm.nih.gov/geo/samples/GSM1045nnn/GSM1045278/suppl/GSM1045278_T35_3_12_04.CEL.gz\n",
      "21-Dec-2023 17:34:16 ERROR GEOTypes - Cannot download GSM1045278 SRA file (argument of type 'NoneType' is not iterable)\n"
     ]
    },
    {
     "name": "stdout",
     "output_type": "stream",
     "text": [
      "Downloading GSM1045279...\n"
     ]
    },
    {
     "name": "stderr",
     "output_type": "stream",
     "text": [
      "100%|██████████| 7.55M/7.55M [00:03<00:00, 2.10MB/s]\n",
      "21-Dec-2023 17:34:20 DEBUG downloader - Size validation passed\n",
      "21-Dec-2023 17:34:20 DEBUG downloader - Moving /tmp/tmpmlczgm2v to /home/alarsen/Projects/pytranscript/projects/cancer_demo/Supp_GSM1045279_Breast_cancer__T36_15_12_04/GSM1045279_T36_15_12_04.CEL.gz\n",
      "21-Dec-2023 17:34:20 DEBUG downloader - Successfully downloaded ftp://ftp.ncbi.nlm.nih.gov/geo/samples/GSM1045nnn/GSM1045279/suppl/GSM1045279_T36_15_12_04.CEL.gz\n",
      "21-Dec-2023 17:34:20 ERROR GEOTypes - Cannot download GSM1045279 SRA file (argument of type 'NoneType' is not iterable)\n"
     ]
    },
    {
     "name": "stdout",
     "output_type": "stream",
     "text": [
      "Downloading GSM1045280...\n"
     ]
    },
    {
     "name": "stderr",
     "output_type": "stream",
     "text": [
      "100%|██████████| 7.84M/7.84M [00:03<00:00, 2.31MB/s]\n",
      "21-Dec-2023 17:34:24 DEBUG downloader - Size validation passed\n",
      "21-Dec-2023 17:34:24 DEBUG downloader - Moving /tmp/tmpi5bfc1jj to /home/alarsen/Projects/pytranscript/projects/cancer_demo/Supp_GSM1045280_Breast_cancer__T38_25_1_05/GSM1045280_T38_25_1_05.CEL.gz\n",
      "21-Dec-2023 17:34:25 DEBUG downloader - Successfully downloaded ftp://ftp.ncbi.nlm.nih.gov/geo/samples/GSM1045nnn/GSM1045280/suppl/GSM1045280_T38_25_1_05.CEL.gz\n",
      "21-Dec-2023 17:34:25 ERROR GEOTypes - Cannot download GSM1045280 SRA file (argument of type 'NoneType' is not iterable)\n"
     ]
    },
    {
     "name": "stdout",
     "output_type": "stream",
     "text": [
      "Downloading GSM1045281...\n"
     ]
    },
    {
     "name": "stderr",
     "output_type": "stream",
     "text": [
      "100%|██████████| 7.99M/7.99M [00:03<00:00, 2.15MB/s]\n",
      "21-Dec-2023 17:34:29 DEBUG downloader - Size validation passed\n",
      "21-Dec-2023 17:34:29 DEBUG downloader - Moving /tmp/tmp73tkf9j_ to /home/alarsen/Projects/pytranscript/projects/cancer_demo/Supp_GSM1045281_Breast_cancer__T39_14_12_04/GSM1045281_T39_14_12_04.CEL.gz\n",
      "21-Dec-2023 17:34:29 DEBUG downloader - Successfully downloaded ftp://ftp.ncbi.nlm.nih.gov/geo/samples/GSM1045nnn/GSM1045281/suppl/GSM1045281_T39_14_12_04.CEL.gz\n",
      "21-Dec-2023 17:34:29 ERROR GEOTypes - Cannot download GSM1045281 SRA file (argument of type 'NoneType' is not iterable)\n"
     ]
    },
    {
     "name": "stdout",
     "output_type": "stream",
     "text": [
      "Downloading GSM1045282...\n"
     ]
    },
    {
     "name": "stderr",
     "output_type": "stream",
     "text": [
      "100%|██████████| 7.69M/7.69M [00:03<00:00, 2.27MB/s]\n",
      "21-Dec-2023 17:34:33 DEBUG downloader - Size validation passed\n",
      "21-Dec-2023 17:34:33 DEBUG downloader - Moving /tmp/tmp0yarw6bc to /home/alarsen/Projects/pytranscript/projects/cancer_demo/Supp_GSM1045282_Breast_cancer__T40_9_12_04/GSM1045282_T40_9_12_04.CEL.gz\n",
      "21-Dec-2023 17:34:33 DEBUG downloader - Successfully downloaded ftp://ftp.ncbi.nlm.nih.gov/geo/samples/GSM1045nnn/GSM1045282/suppl/GSM1045282_T40_9_12_04.CEL.gz\n",
      "21-Dec-2023 17:34:33 ERROR GEOTypes - Cannot download GSM1045282 SRA file (argument of type 'NoneType' is not iterable)\n"
     ]
    },
    {
     "name": "stdout",
     "output_type": "stream",
     "text": [
      "Downloading GSM1045283...\n"
     ]
    },
    {
     "name": "stderr",
     "output_type": "stream",
     "text": [
      "100%|██████████| 8.06M/8.06M [00:05<00:00, 1.60MB/s]\n",
      "21-Dec-2023 17:34:39 DEBUG downloader - Size validation passed\n",
      "21-Dec-2023 17:34:39 DEBUG downloader - Moving /tmp/tmpx9t1ao8g to /home/alarsen/Projects/pytranscript/projects/cancer_demo/Supp_GSM1045283_Breast_cancer__T41_20_12_04/GSM1045283_T41_20_12_04.CEL.gz\n",
      "21-Dec-2023 17:34:39 DEBUG downloader - Successfully downloaded ftp://ftp.ncbi.nlm.nih.gov/geo/samples/GSM1045nnn/GSM1045283/suppl/GSM1045283_T41_20_12_04.CEL.gz\n",
      "21-Dec-2023 17:34:39 ERROR GEOTypes - Cannot download GSM1045283 SRA file (argument of type 'NoneType' is not iterable)\n"
     ]
    },
    {
     "name": "stdout",
     "output_type": "stream",
     "text": [
      "Downloading GSM1045284...\n"
     ]
    },
    {
     "name": "stderr",
     "output_type": "stream",
     "text": [
      "100%|██████████| 7.68M/7.68M [00:03<00:00, 2.52MB/s]\n",
      "21-Dec-2023 17:34:42 DEBUG downloader - Size validation passed\n",
      "21-Dec-2023 17:34:42 DEBUG downloader - Moving /tmp/tmpkuz9hxd4 to /home/alarsen/Projects/pytranscript/projects/cancer_demo/Supp_GSM1045284_Breast_cancer__T43_9_12_04/GSM1045284_T43_9_12_04.CEL.gz\n",
      "21-Dec-2023 17:34:42 DEBUG downloader - Successfully downloaded ftp://ftp.ncbi.nlm.nih.gov/geo/samples/GSM1045nnn/GSM1045284/suppl/GSM1045284_T43_9_12_04.CEL.gz\n",
      "21-Dec-2023 17:34:42 ERROR GEOTypes - Cannot download GSM1045284 SRA file (argument of type 'NoneType' is not iterable)\n"
     ]
    },
    {
     "name": "stdout",
     "output_type": "stream",
     "text": [
      "Downloading GSM1045285...\n"
     ]
    },
    {
     "name": "stderr",
     "output_type": "stream",
     "text": [
      "100%|██████████| 7.30M/7.30M [00:03<00:00, 2.01MB/s]\n",
      "21-Dec-2023 17:34:47 DEBUG downloader - Size validation passed\n",
      "21-Dec-2023 17:34:47 DEBUG downloader - Moving /tmp/tmpq3nq_rqf to /home/alarsen/Projects/pytranscript/projects/cancer_demo/Supp_GSM1045285_Breast_cancer__T45_7_12_04/GSM1045285_T45_7_12_04.CEL.gz\n",
      "21-Dec-2023 17:34:47 DEBUG downloader - Successfully downloaded ftp://ftp.ncbi.nlm.nih.gov/geo/samples/GSM1045nnn/GSM1045285/suppl/GSM1045285_T45_7_12_04.CEL.gz\n",
      "21-Dec-2023 17:34:47 ERROR GEOTypes - Cannot download GSM1045285 SRA file (argument of type 'NoneType' is not iterable)\n"
     ]
    },
    {
     "name": "stdout",
     "output_type": "stream",
     "text": [
      "Downloading GSM1045286...\n"
     ]
    },
    {
     "name": "stderr",
     "output_type": "stream",
     "text": [
      "100%|██████████| 7.93M/7.93M [00:03<00:00, 2.44MB/s]\n",
      "21-Dec-2023 17:34:51 DEBUG downloader - Size validation passed\n",
      "21-Dec-2023 17:34:51 DEBUG downloader - Moving /tmp/tmp9w5e3rnv to /home/alarsen/Projects/pytranscript/projects/cancer_demo/Supp_GSM1045286_Breast_cancer__T47_20_12_04/GSM1045286_T47_20_12_04.CEL.gz\n",
      "21-Dec-2023 17:34:51 DEBUG downloader - Successfully downloaded ftp://ftp.ncbi.nlm.nih.gov/geo/samples/GSM1045nnn/GSM1045286/suppl/GSM1045286_T47_20_12_04.CEL.gz\n",
      "21-Dec-2023 17:34:51 ERROR GEOTypes - Cannot download GSM1045286 SRA file (argument of type 'NoneType' is not iterable)\n"
     ]
    },
    {
     "name": "stdout",
     "output_type": "stream",
     "text": [
      "Downloading GSM1045287...\n"
     ]
    },
    {
     "name": "stderr",
     "output_type": "stream",
     "text": [
      "100%|██████████| 7.82M/7.82M [00:03<00:00, 2.67MB/s]\n",
      "21-Dec-2023 17:34:54 DEBUG downloader - Size validation passed\n",
      "21-Dec-2023 17:34:54 DEBUG downloader - Moving /tmp/tmpva3l59ni to /home/alarsen/Projects/pytranscript/projects/cancer_demo/Supp_GSM1045287_Breast_cancer__T49_10_12_04/GSM1045287_T49_10_12_04.CEL.gz\n",
      "21-Dec-2023 17:34:54 DEBUG downloader - Successfully downloaded ftp://ftp.ncbi.nlm.nih.gov/geo/samples/GSM1045nnn/GSM1045287/suppl/GSM1045287_T49_10_12_04.CEL.gz\n",
      "21-Dec-2023 17:34:54 ERROR GEOTypes - Cannot download GSM1045287 SRA file (argument of type 'NoneType' is not iterable)\n"
     ]
    },
    {
     "name": "stdout",
     "output_type": "stream",
     "text": [
      "Downloading GSM1045288...\n"
     ]
    },
    {
     "name": "stderr",
     "output_type": "stream",
     "text": [
      "100%|██████████| 7.25M/7.25M [00:04<00:00, 1.77MB/s]\n",
      "21-Dec-2023 17:34:59 DEBUG downloader - Size validation passed\n",
      "21-Dec-2023 17:34:59 DEBUG downloader - Moving /tmp/tmpw_d_v1rt to /home/alarsen/Projects/pytranscript/projects/cancer_demo/Supp_GSM1045288_Breast_cancer__T5_10_12_04/GSM1045288_T5_10_12_04.CEL.gz\n",
      "21-Dec-2023 17:34:59 DEBUG downloader - Successfully downloaded ftp://ftp.ncbi.nlm.nih.gov/geo/samples/GSM1045nnn/GSM1045288/suppl/GSM1045288_T5_10_12_04.CEL.gz\n",
      "21-Dec-2023 17:34:59 ERROR GEOTypes - Cannot download GSM1045288 SRA file (argument of type 'NoneType' is not iterable)\n"
     ]
    },
    {
     "name": "stdout",
     "output_type": "stream",
     "text": [
      "Downloading GSM1045289...\n"
     ]
    },
    {
     "name": "stderr",
     "output_type": "stream",
     "text": [
      "100%|██████████| 7.85M/7.85M [00:03<00:00, 2.21MB/s]\n",
      "21-Dec-2023 17:35:03 DEBUG downloader - Size validation passed\n",
      "21-Dec-2023 17:35:03 DEBUG downloader - Moving /tmp/tmpreltb8kg to /home/alarsen/Projects/pytranscript/projects/cancer_demo/Supp_GSM1045289_Breast_cancer__T51_7_12_04/GSM1045289_T51_7_12_04.CEL.gz\n",
      "21-Dec-2023 17:35:03 DEBUG downloader - Successfully downloaded ftp://ftp.ncbi.nlm.nih.gov/geo/samples/GSM1045nnn/GSM1045289/suppl/GSM1045289_T51_7_12_04.CEL.gz\n",
      "21-Dec-2023 17:35:03 ERROR GEOTypes - Cannot download GSM1045289 SRA file (argument of type 'NoneType' is not iterable)\n"
     ]
    },
    {
     "name": "stdout",
     "output_type": "stream",
     "text": [
      "Downloading GSM1045290...\n"
     ]
    },
    {
     "name": "stderr",
     "output_type": "stream",
     "text": [
      "100%|██████████| 8.08M/8.08M [00:05<00:00, 1.66MB/s]\n",
      "21-Dec-2023 17:35:09 DEBUG downloader - Size validation passed\n",
      "21-Dec-2023 17:35:09 DEBUG downloader - Moving /tmp/tmpdraei2qv to /home/alarsen/Projects/pytranscript/projects/cancer_demo/Supp_GSM1045290_Breast_cancer__T52_15_12_04/GSM1045290_T52_15_12_04.CEL.gz\n",
      "21-Dec-2023 17:35:09 DEBUG downloader - Successfully downloaded ftp://ftp.ncbi.nlm.nih.gov/geo/samples/GSM1045nnn/GSM1045290/suppl/GSM1045290_T52_15_12_04.CEL.gz\n",
      "21-Dec-2023 17:35:09 ERROR GEOTypes - Cannot download GSM1045290 SRA file (argument of type 'NoneType' is not iterable)\n"
     ]
    },
    {
     "name": "stdout",
     "output_type": "stream",
     "text": [
      "Downloading GSM1045291...\n"
     ]
    },
    {
     "name": "stderr",
     "output_type": "stream",
     "text": [
      "100%|██████████| 7.87M/7.87M [00:03<00:00, 2.73MB/s]\n",
      "21-Dec-2023 17:35:13 DEBUG downloader - Size validation passed\n",
      "21-Dec-2023 17:35:13 DEBUG downloader - Moving /tmp/tmp_m7r8t96 to /home/alarsen/Projects/pytranscript/projects/cancer_demo/Supp_GSM1045291_Breast_cancer__T56_15_12_04/GSM1045291_T56_15_12_04.CEL.gz\n",
      "21-Dec-2023 17:35:13 DEBUG downloader - Successfully downloaded ftp://ftp.ncbi.nlm.nih.gov/geo/samples/GSM1045nnn/GSM1045291/suppl/GSM1045291_T56_15_12_04.CEL.gz\n",
      "21-Dec-2023 17:35:13 ERROR GEOTypes - Cannot download GSM1045291 SRA file (argument of type 'NoneType' is not iterable)\n"
     ]
    },
    {
     "name": "stdout",
     "output_type": "stream",
     "text": [
      "Downloading GSM1045292...\n"
     ]
    },
    {
     "name": "stderr",
     "output_type": "stream",
     "text": [
      "100%|██████████| 7.79M/7.79M [00:03<00:00, 2.07MB/s]\n",
      "21-Dec-2023 17:35:17 DEBUG downloader - Size validation passed\n",
      "21-Dec-2023 17:35:17 DEBUG downloader - Moving /tmp/tmpcoh00nzi to /home/alarsen/Projects/pytranscript/projects/cancer_demo/Supp_GSM1045292_Breast_cancer__T62_26_1_05/GSM1045292_T62_26_1_05.CEL.gz\n",
      "21-Dec-2023 17:35:17 DEBUG downloader - Successfully downloaded ftp://ftp.ncbi.nlm.nih.gov/geo/samples/GSM1045nnn/GSM1045292/suppl/GSM1045292_T62_26_1_05.CEL.gz\n",
      "21-Dec-2023 17:35:17 ERROR GEOTypes - Cannot download GSM1045292 SRA file (argument of type 'NoneType' is not iterable)\n"
     ]
    },
    {
     "name": "stdout",
     "output_type": "stream",
     "text": [
      "Downloading GSM1045293...\n"
     ]
    },
    {
     "name": "stderr",
     "output_type": "stream",
     "text": [
      "100%|██████████| 7.37M/7.37M [00:04<00:00, 1.66MB/s]\n",
      "21-Dec-2023 17:35:23 DEBUG downloader - Size validation passed\n",
      "21-Dec-2023 17:35:23 DEBUG downloader - Moving /tmp/tmptyz2u190 to /home/alarsen/Projects/pytranscript/projects/cancer_demo/Supp_GSM1045293_Breast_cancer__T63_22_12_04/GSM1045293_T63_22_12_04.CEL.gz\n",
      "21-Dec-2023 17:35:23 DEBUG downloader - Successfully downloaded ftp://ftp.ncbi.nlm.nih.gov/geo/samples/GSM1045nnn/GSM1045293/suppl/GSM1045293_T63_22_12_04.CEL.gz\n",
      "21-Dec-2023 17:35:23 ERROR GEOTypes - Cannot download GSM1045293 SRA file (argument of type 'NoneType' is not iterable)\n"
     ]
    },
    {
     "name": "stdout",
     "output_type": "stream",
     "text": [
      "Downloading GSM1045294...\n"
     ]
    },
    {
     "name": "stderr",
     "output_type": "stream",
     "text": [
      "100%|██████████| 7.37M/7.37M [00:03<00:00, 2.03MB/s]\n",
      "21-Dec-2023 17:35:27 DEBUG downloader - Size validation passed\n",
      "21-Dec-2023 17:35:27 DEBUG downloader - Moving /tmp/tmpsgwg779x to /home/alarsen/Projects/pytranscript/projects/cancer_demo/Supp_GSM1045294_Breast_cancer__T65_20_12_04/GSM1045294_T65_20_12_04.CEL.gz\n",
      "21-Dec-2023 17:35:27 DEBUG downloader - Successfully downloaded ftp://ftp.ncbi.nlm.nih.gov/geo/samples/GSM1045nnn/GSM1045294/suppl/GSM1045294_T65_20_12_04.CEL.gz\n",
      "21-Dec-2023 17:35:27 ERROR GEOTypes - Cannot download GSM1045294 SRA file (argument of type 'NoneType' is not iterable)\n"
     ]
    },
    {
     "name": "stdout",
     "output_type": "stream",
     "text": [
      "Downloading GSM1045295...\n"
     ]
    },
    {
     "name": "stderr",
     "output_type": "stream",
     "text": [
      "100%|██████████| 7.81M/7.81M [00:04<00:00, 1.82MB/s]\n",
      "21-Dec-2023 17:35:32 DEBUG downloader - Size validation passed\n",
      "21-Dec-2023 17:35:32 DEBUG downloader - Moving /tmp/tmpeb_l2qtf to /home/alarsen/Projects/pytranscript/projects/cancer_demo/Supp_GSM1045295_Breast_cancer__T66_25_1_05/GSM1045295_T66_25_1_05.CEL.gz\n",
      "21-Dec-2023 17:35:32 DEBUG downloader - Successfully downloaded ftp://ftp.ncbi.nlm.nih.gov/geo/samples/GSM1045nnn/GSM1045295/suppl/GSM1045295_T66_25_1_05.CEL.gz\n",
      "21-Dec-2023 17:35:32 ERROR GEOTypes - Cannot download GSM1045295 SRA file (argument of type 'NoneType' is not iterable)\n"
     ]
    },
    {
     "name": "stdout",
     "output_type": "stream",
     "text": [
      "Downloading GSM1045296...\n"
     ]
    },
    {
     "name": "stderr",
     "output_type": "stream",
     "text": [
      "100%|██████████| 8.11M/8.11M [00:04<00:00, 1.72MB/s]\n",
      "21-Dec-2023 17:35:38 DEBUG downloader - Size validation passed\n",
      "21-Dec-2023 17:35:38 DEBUG downloader - Moving /tmp/tmp_lu_b6r0 to /home/alarsen/Projects/pytranscript/projects/cancer_demo/Supp_GSM1045296_Breast_cancer__T67_7_12_04/GSM1045296_T67_7_12_04.CEL.gz\n",
      "21-Dec-2023 17:35:38 DEBUG downloader - Successfully downloaded ftp://ftp.ncbi.nlm.nih.gov/geo/samples/GSM1045nnn/GSM1045296/suppl/GSM1045296_T67_7_12_04.CEL.gz\n",
      "21-Dec-2023 17:35:38 ERROR GEOTypes - Cannot download GSM1045296 SRA file (argument of type 'NoneType' is not iterable)\n"
     ]
    },
    {
     "name": "stdout",
     "output_type": "stream",
     "text": [
      "Downloading GSM1045297...\n"
     ]
    },
    {
     "name": "stderr",
     "output_type": "stream",
     "text": [
      "100%|██████████| 7.99M/7.99M [00:04<00:00, 2.02MB/s]\n",
      "21-Dec-2023 17:35:42 DEBUG downloader - Size validation passed\n",
      "21-Dec-2023 17:35:42 DEBUG downloader - Moving /tmp/tmp0zh6uduz to /home/alarsen/Projects/pytranscript/projects/cancer_demo/Supp_GSM1045297_Breast_cancer__T69_15_12_04/GSM1045297_T69_15_12_04.CEL.gz\n",
      "21-Dec-2023 17:35:42 DEBUG downloader - Successfully downloaded ftp://ftp.ncbi.nlm.nih.gov/geo/samples/GSM1045nnn/GSM1045297/suppl/GSM1045297_T69_15_12_04.CEL.gz\n",
      "21-Dec-2023 17:35:42 ERROR GEOTypes - Cannot download GSM1045297 SRA file (argument of type 'NoneType' is not iterable)\n"
     ]
    },
    {
     "name": "stdout",
     "output_type": "stream",
     "text": [
      "Downloading GSM1045298...\n"
     ]
    },
    {
     "name": "stderr",
     "output_type": "stream",
     "text": [
      "100%|██████████| 7.67M/7.67M [00:04<00:00, 1.74MB/s]\n",
      "21-Dec-2023 17:35:48 DEBUG downloader - Size validation passed\n",
      "21-Dec-2023 17:35:48 DEBUG downloader - Moving /tmp/tmpdmqnzl6u to /home/alarsen/Projects/pytranscript/projects/cancer_demo/Supp_GSM1045298_Breast_cancer__T70_21_12_04/GSM1045298_T70_21_12_04.CEL.gz\n",
      "21-Dec-2023 17:35:48 DEBUG downloader - Successfully downloaded ftp://ftp.ncbi.nlm.nih.gov/geo/samples/GSM1045nnn/GSM1045298/suppl/GSM1045298_T70_21_12_04.CEL.gz\n",
      "21-Dec-2023 17:35:48 ERROR GEOTypes - Cannot download GSM1045298 SRA file (argument of type 'NoneType' is not iterable)\n"
     ]
    },
    {
     "name": "stdout",
     "output_type": "stream",
     "text": [
      "Downloading GSM1045299...\n"
     ]
    },
    {
     "name": "stderr",
     "output_type": "stream",
     "text": [
      "100%|██████████| 7.57M/7.57M [00:03<00:00, 2.25MB/s]\n",
      "21-Dec-2023 17:35:52 DEBUG downloader - Size validation passed\n",
      "21-Dec-2023 17:35:52 DEBUG downloader - Moving /tmp/tmp6rgk4duj to /home/alarsen/Projects/pytranscript/projects/cancer_demo/Supp_GSM1045299_Breast_cancer__T71_14_12_04/GSM1045299_T71_14_12_04.CEL.gz\n",
      "21-Dec-2023 17:35:52 DEBUG downloader - Successfully downloaded ftp://ftp.ncbi.nlm.nih.gov/geo/samples/GSM1045nnn/GSM1045299/suppl/GSM1045299_T71_14_12_04.CEL.gz\n",
      "21-Dec-2023 17:35:52 ERROR GEOTypes - Cannot download GSM1045299 SRA file (argument of type 'NoneType' is not iterable)\n"
     ]
    },
    {
     "name": "stdout",
     "output_type": "stream",
     "text": [
      "Downloading GSM1045300...\n"
     ]
    },
    {
     "name": "stderr",
     "output_type": "stream",
     "text": [
      "100%|██████████| 7.63M/7.63M [00:03<00:00, 2.26MB/s]\n",
      "21-Dec-2023 17:35:56 DEBUG downloader - Size validation passed\n",
      "21-Dec-2023 17:35:56 DEBUG downloader - Moving /tmp/tmp84jx47cg to /home/alarsen/Projects/pytranscript/projects/cancer_demo/Supp_GSM1045300_Breast_cancer__T72_14_12_04/GSM1045300_T72_14_12_04.CEL.gz\n",
      "21-Dec-2023 17:35:56 DEBUG downloader - Successfully downloaded ftp://ftp.ncbi.nlm.nih.gov/geo/samples/GSM1045nnn/GSM1045300/suppl/GSM1045300_T72_14_12_04.CEL.gz\n",
      "21-Dec-2023 17:35:56 ERROR GEOTypes - Cannot download GSM1045300 SRA file (argument of type 'NoneType' is not iterable)\n"
     ]
    },
    {
     "name": "stdout",
     "output_type": "stream",
     "text": [
      "Downloading GSM1045301...\n"
     ]
    },
    {
     "name": "stderr",
     "output_type": "stream",
     "text": [
      "100%|██████████| 7.28M/7.28M [00:03<00:00, 2.25MB/s]\n",
      "21-Dec-2023 17:36:00 DEBUG downloader - Size validation passed\n",
      "21-Dec-2023 17:36:00 DEBUG downloader - Moving /tmp/tmp39yioxqq to /home/alarsen/Projects/pytranscript/projects/cancer_demo/Supp_GSM1045301_Breast_cancer__T73_15_12_04/GSM1045301_T73_15_12_04.CEL.gz\n",
      "21-Dec-2023 17:36:00 DEBUG downloader - Successfully downloaded ftp://ftp.ncbi.nlm.nih.gov/geo/samples/GSM1045nnn/GSM1045301/suppl/GSM1045301_T73_15_12_04.CEL.gz\n",
      "21-Dec-2023 17:36:00 ERROR GEOTypes - Cannot download GSM1045301 SRA file (argument of type 'NoneType' is not iterable)\n"
     ]
    },
    {
     "name": "stdout",
     "output_type": "stream",
     "text": [
      "Downloading GSM1045302...\n"
     ]
    },
    {
     "name": "stderr",
     "output_type": "stream",
     "text": [
      "100%|██████████| 7.60M/7.60M [00:04<00:00, 1.78MB/s]\n",
      "21-Dec-2023 17:36:05 DEBUG downloader - Size validation passed\n",
      "21-Dec-2023 17:36:05 DEBUG downloader - Moving /tmp/tmp7gw5rv0s to /home/alarsen/Projects/pytranscript/projects/cancer_demo/Supp_GSM1045302_Breast_cancer__T75/GSM1045302_T75.CEL.gz\n",
      "21-Dec-2023 17:36:05 DEBUG downloader - Successfully downloaded ftp://ftp.ncbi.nlm.nih.gov/geo/samples/GSM1045nnn/GSM1045302/suppl/GSM1045302_T75.CEL.gz\n",
      "21-Dec-2023 17:36:05 ERROR GEOTypes - Cannot download GSM1045302 SRA file (argument of type 'NoneType' is not iterable)\n"
     ]
    },
    {
     "name": "stdout",
     "output_type": "stream",
     "text": [
      "Downloading GSM1045303...\n"
     ]
    },
    {
     "name": "stderr",
     "output_type": "stream",
     "text": [
      "100%|██████████| 7.88M/7.88M [00:06<00:00, 1.29MB/s]\n",
      "21-Dec-2023 17:36:12 DEBUG downloader - Size validation passed\n",
      "21-Dec-2023 17:36:12 DEBUG downloader - Moving /tmp/tmpkj2qtifn to /home/alarsen/Projects/pytranscript/projects/cancer_demo/Supp_GSM1045303_Breast_cancer__T80_14_12_04/GSM1045303_T80_14_12_04.CEL.gz\n",
      "21-Dec-2023 17:36:12 DEBUG downloader - Successfully downloaded ftp://ftp.ncbi.nlm.nih.gov/geo/samples/GSM1045nnn/GSM1045303/suppl/GSM1045303_T80_14_12_04.CEL.gz\n",
      "21-Dec-2023 17:36:12 ERROR GEOTypes - Cannot download GSM1045303 SRA file (argument of type 'NoneType' is not iterable)\n"
     ]
    },
    {
     "name": "stdout",
     "output_type": "stream",
     "text": [
      "Downloading GSM1045304...\n"
     ]
    },
    {
     "name": "stderr",
     "output_type": "stream",
     "text": [
      "100%|██████████| 7.68M/7.68M [00:03<00:00, 2.13MB/s]\n",
      "21-Dec-2023 17:36:16 DEBUG downloader - Size validation passed\n",
      "21-Dec-2023 17:36:16 DEBUG downloader - Moving /tmp/tmptrjf3qw9 to /home/alarsen/Projects/pytranscript/projects/cancer_demo/Supp_GSM1045304_Breast_cancer__T81_10_12_04/GSM1045304_T81_10_12_04.CEL.gz\n",
      "21-Dec-2023 17:36:16 DEBUG downloader - Successfully downloaded ftp://ftp.ncbi.nlm.nih.gov/geo/samples/GSM1045nnn/GSM1045304/suppl/GSM1045304_T81_10_12_04.CEL.gz\n",
      "21-Dec-2023 17:36:16 ERROR GEOTypes - Cannot download GSM1045304 SRA file (argument of type 'NoneType' is not iterable)\n"
     ]
    },
    {
     "name": "stdout",
     "output_type": "stream",
     "text": [
      "Downloading GSM1045305...\n"
     ]
    },
    {
     "name": "stderr",
     "output_type": "stream",
     "text": [
      "100%|██████████| 7.63M/7.63M [00:03<00:00, 2.24MB/s]\n",
      "21-Dec-2023 17:36:21 DEBUG downloader - Size validation passed\n",
      "21-Dec-2023 17:36:21 DEBUG downloader - Moving /tmp/tmpf1cc_kx3 to /home/alarsen/Projects/pytranscript/projects/cancer_demo/Supp_GSM1045305_Breast_cancer__T82_15_12_04/GSM1045305_T82_15_12_04.CEL.gz\n",
      "21-Dec-2023 17:36:21 DEBUG downloader - Successfully downloaded ftp://ftp.ncbi.nlm.nih.gov/geo/samples/GSM1045nnn/GSM1045305/suppl/GSM1045305_T82_15_12_04.CEL.gz\n",
      "21-Dec-2023 17:36:21 ERROR GEOTypes - Cannot download GSM1045305 SRA file (argument of type 'NoneType' is not iterable)\n"
     ]
    },
    {
     "name": "stdout",
     "output_type": "stream",
     "text": [
      "Downloading GSM1045306...\n"
     ]
    },
    {
     "name": "stderr",
     "output_type": "stream",
     "text": [
      "100%|██████████| 7.87M/7.87M [00:03<00:00, 2.31MB/s]\n",
      "21-Dec-2023 17:36:25 DEBUG downloader - Size validation passed\n",
      "21-Dec-2023 17:36:25 DEBUG downloader - Moving /tmp/tmpka6q8rc9 to /home/alarsen/Projects/pytranscript/projects/cancer_demo/Supp_GSM1045306_Breast_cancer__T83_8_12_04/GSM1045306_T83_8_12_04.CEL.gz\n",
      "21-Dec-2023 17:36:25 DEBUG downloader - Successfully downloaded ftp://ftp.ncbi.nlm.nih.gov/geo/samples/GSM1045nnn/GSM1045306/suppl/GSM1045306_T83_8_12_04.CEL.gz\n",
      "21-Dec-2023 17:36:25 ERROR GEOTypes - Cannot download GSM1045306 SRA file (argument of type 'NoneType' is not iterable)\n"
     ]
    },
    {
     "name": "stdout",
     "output_type": "stream",
     "text": [
      "Downloading GSM1045307...\n"
     ]
    },
    {
     "name": "stderr",
     "output_type": "stream",
     "text": [
      "100%|██████████| 7.73M/7.73M [00:04<00:00, 1.77MB/s]\n",
      "21-Dec-2023 17:36:30 DEBUG downloader - Size validation passed\n",
      "21-Dec-2023 17:36:30 DEBUG downloader - Moving /tmp/tmpgajd041k to /home/alarsen/Projects/pytranscript/projects/cancer_demo/Supp_GSM1045307_Breast_cancer__T94_9_12_04/GSM1045307_T94_9_12_04.CEL.gz\n",
      "21-Dec-2023 17:36:30 DEBUG downloader - Successfully downloaded ftp://ftp.ncbi.nlm.nih.gov/geo/samples/GSM1045nnn/GSM1045307/suppl/GSM1045307_T94_9_12_04.CEL.gz\n",
      "21-Dec-2023 17:36:30 ERROR GEOTypes - Cannot download GSM1045307 SRA file (argument of type 'NoneType' is not iterable)\n"
     ]
    },
    {
     "name": "stdout",
     "output_type": "stream",
     "text": [
      "Downloading GSM1045308...\n"
     ]
    },
    {
     "name": "stderr",
     "output_type": "stream",
     "text": [
      "100%|██████████| 7.83M/7.83M [00:04<00:00, 1.94MB/s]\n",
      "21-Dec-2023 17:36:35 DEBUG downloader - Size validation passed\n",
      "21-Dec-2023 17:36:35 DEBUG downloader - Moving /tmp/tmpkcuc34u1 to /home/alarsen/Projects/pytranscript/projects/cancer_demo/Supp_GSM1045308_Breast_cancer__T97_3_12_04/GSM1045308_T97_3_12_04.CEL.gz\n",
      "21-Dec-2023 17:36:35 DEBUG downloader - Successfully downloaded ftp://ftp.ncbi.nlm.nih.gov/geo/samples/GSM1045nnn/GSM1045308/suppl/GSM1045308_T97_3_12_04.CEL.gz\n",
      "21-Dec-2023 17:36:35 ERROR GEOTypes - Cannot download GSM1045308 SRA file (argument of type 'NoneType' is not iterable)\n"
     ]
    },
    {
     "name": "stdout",
     "output_type": "stream",
     "text": [
      "Downloading GSM1045309...\n"
     ]
    },
    {
     "name": "stderr",
     "output_type": "stream",
     "text": [
      "100%|██████████| 7.63M/7.63M [00:08<00:00, 916kB/s] \n",
      "21-Dec-2023 17:36:44 DEBUG downloader - Size validation passed\n",
      "21-Dec-2023 17:36:44 DEBUG downloader - Moving /tmp/tmpw47b0k8e to /home/alarsen/Projects/pytranscript/projects/cancer_demo/Supp_GSM1045309_Breast_cancer__T98_22_12_04/GSM1045309_T98_22_12_04.CEL.gz\n",
      "21-Dec-2023 17:36:44 DEBUG downloader - Successfully downloaded ftp://ftp.ncbi.nlm.nih.gov/geo/samples/GSM1045nnn/GSM1045309/suppl/GSM1045309_T98_22_12_04.CEL.gz\n",
      "21-Dec-2023 17:36:44 ERROR GEOTypes - Cannot download GSM1045309 SRA file (argument of type 'NoneType' is not iterable)\n"
     ]
    },
    {
     "name": "stdout",
     "output_type": "stream",
     "text": [
      "Downloading GSM1045310...\n"
     ]
    },
    {
     "name": "stderr",
     "output_type": "stream",
     "text": [
      "100%|██████████| 7.98M/7.98M [00:07<00:00, 1.11MB/s]\n",
      "21-Dec-2023 17:36:53 DEBUG downloader - Size validation passed\n",
      "21-Dec-2023 17:36:53 DEBUG downloader - Moving /tmp/tmpvmefg4d1 to /home/alarsen/Projects/pytranscript/projects/cancer_demo/Supp_GSM1045310_Breast_cancer__T99_20_12_04/GSM1045310_T99_20_12_04.CEL.gz\n",
      "21-Dec-2023 17:36:53 DEBUG downloader - Successfully downloaded ftp://ftp.ncbi.nlm.nih.gov/geo/samples/GSM1045nnn/GSM1045310/suppl/GSM1045310_T99_20_12_04.CEL.gz\n",
      "21-Dec-2023 17:36:53 ERROR GEOTypes - Cannot download GSM1045310 SRA file (argument of type 'NoneType' is not iterable)\n"
     ]
    },
    {
     "name": "stdout",
     "output_type": "stream",
     "text": [
      "Downloading GSM1045311...\n"
     ]
    },
    {
     "name": "stderr",
     "output_type": "stream",
     "text": [
      "100%|██████████| 7.68M/7.68M [00:06<00:00, 1.17MB/s]\n",
      "21-Dec-2023 17:37:00 DEBUG downloader - Size validation passed\n",
      "21-Dec-2023 17:37:00 DEBUG downloader - Moving /tmp/tmp7d68puw7 to /home/alarsen/Projects/pytranscript/projects/cancer_demo/Supp_GSM1045311_Breast_cancer__T9A_9_12_04/GSM1045311_T9A_9_12_04.CEL.gz\n",
      "21-Dec-2023 17:37:00 DEBUG downloader - Successfully downloaded ftp://ftp.ncbi.nlm.nih.gov/geo/samples/GSM1045nnn/GSM1045311/suppl/GSM1045311_T9A_9_12_04.CEL.gz\n",
      "21-Dec-2023 17:37:00 ERROR GEOTypes - Cannot download GSM1045311 SRA file (argument of type 'NoneType' is not iterable)\n"
     ]
    }
   ],
   "source": [
    "geo_accession = \"GSE42568\"\n",
    "download_geo_data(geo_accession)"
   ]
  },
  {
   "cell_type": "code",
   "execution_count": 26,
   "metadata": {},
   "outputs": [
    {
     "name": "stdout",
     "output_type": "stream",
     "text": [
      "Supp_GSM1045191_Normal_breast__N1_15_12_04/GSM1045191_N1_15_12_04.CEL.gz\n",
      "Supp_GSM1045192_Normal_breast__N4_14_12_04/GSM1045192_N4_14_12_04.CEL.gz\n",
      "Supp_GSM1045193_Normal_breast__N5_15_12_04/GSM1045193_N5_15_12_04.CEL.gz\n",
      "Supp_GSM1045194_Normal_breast__N6_14_12_04/GSM1045194_N6_14_12_04.CEL.gz\n",
      "Supp_GSM1045195_Normal_breast__P1_15_12_04/GSM1045195_P1_15_12_04.CEL.gz\n",
      "Supp_GSM1045196_Normal_breast__P10_26_1_05/GSM1045196_P10_26_1_05.CEL.gz\n",
      "Supp_GSM1045197_Normal_breast__P11_25_1_05/GSM1045197_P11_25_1_05.CEL.gz\n",
      "Supp_GSM1045198_Normal_breast__P12_25_1_05/GSM1045198_P12_25_1_05.CEL.gz\n",
      "Supp_GSM1045199_Normal_breast__P13_25_1_05/GSM1045199_P13_25_1_05.CEL.gz\n",
      "Supp_GSM1045200_Normal_breast__P14_25_1_05/GSM1045200_P14_25_1_05.CEL.gz\n",
      "Supp_GSM1045201_Normal_breast__P18_25_1_05/GSM1045201_P18_25_1_05.CEL.gz\n",
      "Supp_GSM1045202_Normal_breast__P21_25_1_05/GSM1045202_P21_25_1_05.CEL.gz\n",
      "Supp_GSM1045203_Normal_breast__P3_22_12_04/GSM1045203_P3_22_12_04.CEL.gz\n",
      "Supp_GSM1045204_Normal_breast__P4_14_12_04/GSM1045204_P4_14_12_04.CEL.gz\n",
      "Supp_GSM1045205_Normal_breast__P5_21_12_04/GSM1045205_P5_21_12_04.CEL.gz\n",
      "Supp_GSM1045206_Normal_breast__P8_25_1_05/GSM1045206_P8_25_1_05.CEL.gz\n",
      "Supp_GSM1045207_Normal_breast__P9_25_1_05/GSM1045207_P9_25_1_05.CEL.gz\n",
      "Supp_GSM1045208_Breast_cancer__S1_21_12_04/GSM1045208_S1_21_12_04.CEL.gz\n",
      "Supp_GSM1045209_Breast_cancer__S10_22_12_04/GSM1045209_S10_22_12_04.CEL.gz\n",
      "Supp_GSM1045210_Breast_cancer__S11_14_12_04/GSM1045210_S11_14_12_04.CEL.gz\n",
      "Supp_GSM1045211_Breast_cancer__S14_21_12_04/GSM1045211_S14_21_12_04.CEL.gz\n",
      "Supp_GSM1045212_Breast_cancer__S15_15_12_04/GSM1045212_S15_15_12_04.CEL.gz\n",
      "Supp_GSM1045213_Breast_cancer__S16_20_12_04/GSM1045213_S16_20_12_04.CEL.gz\n",
      "Supp_GSM1045214_Breast_cancer__S18_22_12_04/GSM1045214_S18_22_12_04.CEL.gz\n",
      "Supp_GSM1045215_Breast_cancer__S2_15_12_04/GSM1045215_S2_15_12_04.CEL.gz\n",
      "Supp_GSM1045216_Breast_cancer__S20_14_12_04/GSM1045216_S20_14_12_04.CEL.gz\n",
      "Supp_GSM1045217_Breast_cancer__S22_9_12_04/GSM1045217_S22_9_12_04.CEL.gz\n",
      "Supp_GSM1045218_Breast_cancer__S25_10_12_04/GSM1045218_S25_10_12_04.CEL.gz\n",
      "Supp_GSM1045219_Breast_cancer__S26_10_12_04/GSM1045219_S26_10_12_04.CEL.gz\n",
      "Supp_GSM1045220_Breast_cancer__S28_7_12_04/GSM1045220_S28_7_12_04.CEL.gz\n",
      "Supp_GSM1045221_Breast_cancer__S29_10_12_04/GSM1045221_S29_10_12_04.CEL.gz\n",
      "Supp_GSM1045222_Breast_cancer__S3_20_12_04/GSM1045222_S3_20_12_04.CEL.gz\n",
      "Supp_GSM1045223_Breast_cancer__S30_14_12_04/GSM1045223_S30_14_12_04.CEL.gz\n",
      "Supp_GSM1045224_Breast_cancer__S31_3_12_04/GSM1045224_S31_3_12_04.CEL.gz\n",
      "Supp_GSM1045225_Breast_cancer__S32_3_12_04/GSM1045225_S32_3_12_04.CEL.gz\n",
      "Supp_GSM1045226_Breast_cancer__S33_3_12_04/GSM1045226_S33_3_12_04.CEL.gz\n",
      "Supp_GSM1045227_Breast_cancer__S35_8_12_04/GSM1045227_S35_8_12_04.CEL.gz\n",
      "Supp_GSM1045228_Breast_cancer__S36_20_12_04/GSM1045228_S36_20_12_04.CEL.gz\n",
      "Supp_GSM1045229_Breast_cancer__S37_8_12_04/GSM1045229_S37_8_12_04.CEL.gz\n",
      "Supp_GSM1045230_Breast_cancer__S38_10_12_04/GSM1045230_S38_10_12_04.CEL.gz\n",
      "Supp_GSM1045231_Breast_cancer__S5_15_12_04/GSM1045231_S5_15_12_04.CEL.gz\n",
      "Supp_GSM1045232_Breast_cancer__S6_20_12_04/GSM1045232_S6_20_12_04.CEL.gz\n",
      "Supp_GSM1045233_Breast_cancer__S7_14_12_04/GSM1045233_S7_14_12_04.CEL.gz\n",
      "Supp_GSM1045234_Breast_cancer__T1_14_12_04/GSM1045234_T1_14_12_04.CEL.gz\n",
      "Supp_GSM1045235_Breast_cancer__T10_8_12_04/GSM1045235_T10_8_12_04.CEL.gz\n",
      "Supp_GSM1045236_Breast_cancer__T101A_9_12_04/GSM1045236_T101A_9_12_04.CEL.gz\n",
      "Supp_GSM1045237_Breast_cancer__T103_9_12_04/GSM1045237_T103_9_12_04.CEL.gz\n",
      "Supp_GSM1045238_Breast_cancer__T104_9_12_04/GSM1045238_T104_9_12_04.CEL.gz\n",
      "Supp_GSM1045239_Breast_cancer__T105B/GSM1045239_T105B.CEL.gz\n",
      "Supp_GSM1045240_Breast_cancer__T106_21_12_04/GSM1045240_T106_21_12_04.CEL.gz\n",
      "Supp_GSM1045241_Breast_cancer__T107_7_12_04/GSM1045241_T107_7_12_04.CEL.gz\n",
      "Supp_GSM1045242_Breast_cancer__T108_21_12_04/GSM1045242_T108_21_12_04.CEL.gz\n",
      "Supp_GSM1045243_Breast_cancer__T109_21_12_04/GSM1045243_T109_21_12_04.CEL.gz\n",
      "Supp_GSM1045244_Breast_cancer__T11_21_12_04/GSM1045244_T11_21_12_04.CEL.gz\n",
      "Supp_GSM1045245_Breast_cancer__T111_14_12_04/GSM1045245_T111_14_12_04.CEL.gz\n",
      "Supp_GSM1045246_Breast_cancer__T112_3_12_04/GSM1045246_T112_3_12_04.CEL.gz\n",
      "Supp_GSM1045247_Breast_cancer__T113_22_12_04/GSM1045247_T113_22_12_04.CEL.gz\n",
      "Supp_GSM1045248_Breast_cancer__T114_7_12_04/GSM1045248_T114_7_12_04.CEL.gz\n",
      "Supp_GSM1045249_Breast_cancer__T115_15_12_04/GSM1045249_T115_15_12_04.CEL.gz\n",
      "Supp_GSM1045250_Breast_cancer__T119_8_12_04/GSM1045250_T119_8_12_04.CEL.gz\n",
      "Supp_GSM1045251_Breast_cancer__T12_22_12_04/GSM1045251_T12_22_12_04.CEL.gz\n",
      "Supp_GSM1045252_Breast_cancer__T120_10_12_04/GSM1045252_T120_10_12_04.CEL.gz\n",
      "Supp_GSM1045253_Breast_cancer__T122_9_12_04/GSM1045253_T122_9_12_04.CEL.gz\n",
      "Supp_GSM1045254_Breast_cancer__T123_14_12_04/GSM1045254_T123_14_12_04.CEL.gz\n",
      "Supp_GSM1045255_Breast_cancer__T124_25_1_05/GSM1045255_T124_25_1_05.CEL.gz\n",
      "Supp_GSM1045256_Breast_cancer__T125_21_12_04/GSM1045256_T125_21_12_04.CEL.gz\n",
      "Supp_GSM1045257_Breast_cancer__T127_8_12_04/GSM1045257_T127_8_12_04.CEL.gz\n",
      "Supp_GSM1045258_Breast_cancer__T128_22_12_04/GSM1045258_T128_22_12_04.CEL.gz\n",
      "Supp_GSM1045259_Breast_cancer__T129_20_12_04/GSM1045259_T129_20_12_04.CEL.gz\n",
      "Supp_GSM1045260_Breast_cancer__T13_9_12_04/GSM1045260_T13_9_12_04.CEL.gz\n",
      "Supp_GSM1045261_Breast_cancer__T130_8_12_04/GSM1045261_T130_8_12_04.CEL.gz\n",
      "Supp_GSM1045262_Breast_cancer__T131_22_12_04/GSM1045262_T131_22_12_04.CEL.gz\n",
      "Supp_GSM1045263_Breast_cancer__T132/GSM1045263_T132.CEL.gz\n",
      "Supp_GSM1045264_Breast_cancer__T134_7_12_04/GSM1045264_T134_7_12_04.CEL.gz\n",
      "Supp_GSM1045265_Breast_cancer__T14_21_12_04/GSM1045265_T14_21_12_04.CEL.gz\n",
      "Supp_GSM1045266_Breast_cancer__T18_22_12_04/GSM1045266_T18_22_12_04.CEL.gz\n",
      "Supp_GSM1045267_Breast_cancer__T2_7_12_04/GSM1045267_T2_7_12_04.CEL.gz\n",
      "Supp_GSM1045268_Breast_cancer__T20_20_12_04/GSM1045268_T20_20_12_04.CEL.gz\n",
      "Supp_GSM1045269_Breast_cancer__T21_21_12_04/GSM1045269_T21_21_12_04.CEL.gz\n",
      "Supp_GSM1045270_Breast_cancer__T22_10_12_04/GSM1045270_T22_10_12_04.CEL.gz\n",
      "Supp_GSM1045271_Breast_cancer__T23_9_12_04/GSM1045271_T23_9_12_04.CEL.gz\n",
      "Supp_GSM1045272_Breast_cancer__T24_10_12_04/GSM1045272_T24_10_12_04.CEL.gz\n",
      "Supp_GSM1045273_Breast_cancer__T29_14_12_04/GSM1045273_T29_14_12_04.CEL.gz\n",
      "Supp_GSM1045274_Breast_cancer__T30_8_12_04/GSM1045274_T30_8_12_04.CEL.gz\n",
      "Supp_GSM1045275_Breast_cancer__T32_3_12_04/GSM1045275_T32_3_12_04.CEL.gz\n",
      "Supp_GSM1045276_Breast_cancer__T33_3_12_04/GSM1045276_T33_3_12_04.CEL.gz\n",
      "Supp_GSM1045277_Breast_cancer__T34_20_12_04/GSM1045277_T34_20_12_04.CEL.gz\n",
      "Supp_GSM1045278_Breast_cancer__T35_3_12_04/GSM1045278_T35_3_12_04.CEL.gz\n",
      "Supp_GSM1045279_Breast_cancer__T36_15_12_04/GSM1045279_T36_15_12_04.CEL.gz\n",
      "Supp_GSM1045280_Breast_cancer__T38_25_1_05/GSM1045280_T38_25_1_05.CEL.gz\n",
      "Supp_GSM1045281_Breast_cancer__T39_14_12_04/GSM1045281_T39_14_12_04.CEL.gz\n",
      "Supp_GSM1045282_Breast_cancer__T40_9_12_04/GSM1045282_T40_9_12_04.CEL.gz\n",
      "Supp_GSM1045283_Breast_cancer__T41_20_12_04/GSM1045283_T41_20_12_04.CEL.gz\n",
      "Supp_GSM1045284_Breast_cancer__T43_9_12_04/GSM1045284_T43_9_12_04.CEL.gz\n",
      "Supp_GSM1045285_Breast_cancer__T45_7_12_04/GSM1045285_T45_7_12_04.CEL.gz\n",
      "Supp_GSM1045286_Breast_cancer__T47_20_12_04/GSM1045286_T47_20_12_04.CEL.gz\n",
      "Supp_GSM1045287_Breast_cancer__T49_10_12_04/GSM1045287_T49_10_12_04.CEL.gz\n",
      "Supp_GSM1045288_Breast_cancer__T5_10_12_04/GSM1045288_T5_10_12_04.CEL.gz\n",
      "Supp_GSM1045289_Breast_cancer__T51_7_12_04/GSM1045289_T51_7_12_04.CEL.gz\n",
      "Supp_GSM1045290_Breast_cancer__T52_15_12_04/GSM1045290_T52_15_12_04.CEL.gz\n",
      "Supp_GSM1045291_Breast_cancer__T56_15_12_04/GSM1045291_T56_15_12_04.CEL.gz\n",
      "Supp_GSM1045292_Breast_cancer__T62_26_1_05/GSM1045292_T62_26_1_05.CEL.gz\n",
      "Supp_GSM1045293_Breast_cancer__T63_22_12_04/GSM1045293_T63_22_12_04.CEL.gz\n",
      "Supp_GSM1045294_Breast_cancer__T65_20_12_04/GSM1045294_T65_20_12_04.CEL.gz\n",
      "Supp_GSM1045295_Breast_cancer__T66_25_1_05/GSM1045295_T66_25_1_05.CEL.gz\n",
      "Supp_GSM1045296_Breast_cancer__T67_7_12_04/GSM1045296_T67_7_12_04.CEL.gz\n",
      "Supp_GSM1045297_Breast_cancer__T69_15_12_04/GSM1045297_T69_15_12_04.CEL.gz\n",
      "Supp_GSM1045298_Breast_cancer__T70_21_12_04/GSM1045298_T70_21_12_04.CEL.gz\n",
      "Supp_GSM1045299_Breast_cancer__T71_14_12_04/GSM1045299_T71_14_12_04.CEL.gz\n",
      "Supp_GSM1045300_Breast_cancer__T72_14_12_04/GSM1045300_T72_14_12_04.CEL.gz\n",
      "Supp_GSM1045301_Breast_cancer__T73_15_12_04/GSM1045301_T73_15_12_04.CEL.gz\n",
      "Supp_GSM1045302_Breast_cancer__T75/GSM1045302_T75.CEL.gz\n",
      "Supp_GSM1045303_Breast_cancer__T80_14_12_04/GSM1045303_T80_14_12_04.CEL.gz\n",
      "Supp_GSM1045304_Breast_cancer__T81_10_12_04/GSM1045304_T81_10_12_04.CEL.gz\n",
      "Supp_GSM1045305_Breast_cancer__T82_15_12_04/GSM1045305_T82_15_12_04.CEL.gz\n",
      "Supp_GSM1045306_Breast_cancer__T83_8_12_04/GSM1045306_T83_8_12_04.CEL.gz\n",
      "Supp_GSM1045307_Breast_cancer__T94_9_12_04/GSM1045307_T94_9_12_04.CEL.gz\n",
      "Supp_GSM1045308_Breast_cancer__T97_3_12_04/GSM1045308_T97_3_12_04.CEL.gz\n",
      "Supp_GSM1045309_Breast_cancer__T98_22_12_04/GSM1045309_T98_22_12_04.CEL.gz\n",
      "Supp_GSM1045310_Breast_cancer__T99_20_12_04/GSM1045310_T99_20_12_04.CEL.gz\n",
      "Supp_GSM1045311_Breast_cancer__T9A_9_12_04/GSM1045311_T9A_9_12_04.CEL.gz\n"
     ]
    }
   ],
   "source": [
    "%%bash\n",
    "\n",
    "for fil in Supp*; \n",
    "    do filename=`ls $fil`; \n",
    "    echo $fil/$filename;\n",
    "    gunzip $fil/$filename; done"
   ]
  },
  {
   "cell_type": "code",
   "execution_count": 29,
   "metadata": {},
   "outputs": [
    {
     "data": {
      "text/plain": [
       "(array([[   87., 12850.,   106., ..., 14201.,   135., 15053.],\n",
       "        [13136.,   140., 12508., ...,   189., 14507.,   153.],\n",
       "        [  145., 12305.,   157., ..., 14166.,   201., 15015.],\n",
       "        ...,\n",
       "        [13701.,   152., 12972., ...,   184., 13855.,   151.],\n",
       "        [  140., 13317.,   156., ..., 13959.,   184., 14422.],\n",
       "        [14356.,   137., 13681., ...,   117., 14858.,    87.]]),\n",
       " {'filename': 'N1_15_12_04',\n",
       "  'min-pixel_intensity': 12,\n",
       "  'max-pixel_intensity': 65534,\n",
       "  'CLS': 8679,\n",
       "  'RWS': 8679,\n",
       "  'XIN': 1,\n",
       "  'YIN': 1,\n",
       "  'VE': 30,\n",
       "  'temperature': None,\n",
       "  'laser-power': 2.0,\n",
       "  'scan-date': '12/15/04',\n",
       "  'scan-time': '10:39:32',\n",
       "  'scanner-type': 'M10',\n",
       "  'scanner-id': '50209650',\n",
       "  'array-type': 'HG-U133_Plus_2.1sq',\n",
       "  'image-orientation': 6})"
      ]
     },
     "execution_count": 29,
     "metadata": {},
     "output_type": "execute_result"
    }
   ],
   "source": [
    "from Bio.Affy import CelFile\n",
    "import glob\n",
    "\n",
    "path = 'Supp_GSM1045191_Normal_breast__N1_15_12_04/GSM1045191_N1_15_12_04.CEL'\n",
    "with open(path, \"r\") as file:\n",
    "    cdf = CelFile.read(file)\n",
    "\n",
    "\n",
    "cdf.intensities, cdf.DatHeader"
   ]
  },
  {
   "cell_type": "code",
   "execution_count": 32,
   "metadata": {},
   "outputs": [
    {
     "name": "stderr",
     "output_type": "stream",
     "text": [
      "mkdir: cannot create directory ‘cel_files’: File exists\n",
      "rmdir: failed to remove 'Supp_GSM1045191_Normal_breast__N1_15_12_04': Directory not empty\n"
     ]
    }
   ],
   "source": [
    "%%bash\n",
    "\n",
    "cel_path=\"cel_files\"\n",
    "mkdir $cel_path\n",
    "\n",
    "for fil in Supp*; \n",
    "    do filename=`ls $fil`; \n",
    "    mv $fil/$filename $cel_path/$filename;\n",
    "    rmdir $fil;\n",
    "    done"
   ]
  },
  {
   "cell_type": "code",
   "execution_count": 33,
   "metadata": {},
   "outputs": [
    {
     "name": "stdout",
     "output_type": "stream",
     "text": [
      "/home/alarsen/Projects/pytranscript/projects/cancer_demo\n"
     ]
    }
   ],
   "source": [
    "%%bash\n",
    "\n",
    "pwd"
   ]
  },
  {
   "cell_type": "code",
   "execution_count": null,
   "metadata": {},
   "outputs": [],
   "source": []
  }
 ],
 "metadata": {
  "kernelspec": {
   "display_name": "Python 3",
   "language": "python",
   "name": "python3"
  },
  "language_info": {
   "codemirror_mode": {
    "name": "ipython",
    "version": 3
   },
   "file_extension": ".py",
   "mimetype": "text/x-python",
   "name": "python",
   "nbconvert_exporter": "python",
   "pygments_lexer": "ipython3",
   "version": "3.8.10"
  }
 },
 "nbformat": 4,
 "nbformat_minor": 4
}
